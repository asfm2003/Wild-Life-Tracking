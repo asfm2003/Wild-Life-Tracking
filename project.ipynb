{
  "cells": [
    {
      "cell_type": "code",
      "execution_count": null,
      "id": "061b72a7",
      "metadata": {
        "colab": {
          "base_uri": "https://localhost:8080/"
        },
        "id": "061b72a7",
        "outputId": "87b8be30-d79d-4e9b-e022-e75420a5b43e"
      },
      "outputs": [
        {
          "output_type": "stream",
          "name": "stdout",
          "text": [
            "/content\n"
          ]
        }
      ],
      "source": [
        "import os\n",
        "HOME = os.getcwd()\n",
        "print(HOME)"
      ]
    },
    {
      "cell_type": "code",
      "execution_count": null,
      "id": "b1a498e9",
      "metadata": {
        "colab": {
          "base_uri": "https://localhost:8080/"
        },
        "id": "b1a498e9",
        "outputId": "85c68dfd-09c9-4394-8079-1f44f5dcb832"
      },
      "outputs": [
        {
          "output_type": "stream",
          "name": "stdout",
          "text": [
            "Collecting ultralytics\n",
            "  Downloading ultralytics-8.3.36-py3-none-any.whl.metadata (35 kB)\n",
            "Requirement already satisfied: numpy>=1.23.0 in /usr/local/lib/python3.10/dist-packages (from ultralytics) (1.26.4)\n",
            "Requirement already satisfied: matplotlib>=3.3.0 in /usr/local/lib/python3.10/dist-packages (from ultralytics) (3.8.0)\n",
            "Requirement already satisfied: opencv-python>=4.6.0 in /usr/local/lib/python3.10/dist-packages (from ultralytics) (4.10.0.84)\n",
            "Requirement already satisfied: pillow>=7.1.2 in /usr/local/lib/python3.10/dist-packages (from ultralytics) (11.0.0)\n",
            "Requirement already satisfied: pyyaml>=5.3.1 in /usr/local/lib/python3.10/dist-packages (from ultralytics) (6.0.2)\n",
            "Requirement already satisfied: requests>=2.23.0 in /usr/local/lib/python3.10/dist-packages (from ultralytics) (2.32.3)\n",
            "Requirement already satisfied: scipy>=1.4.1 in /usr/local/lib/python3.10/dist-packages (from ultralytics) (1.13.1)\n",
            "Requirement already satisfied: torch>=1.8.0 in /usr/local/lib/python3.10/dist-packages (from ultralytics) (2.5.1+cu121)\n",
            "Requirement already satisfied: torchvision>=0.9.0 in /usr/local/lib/python3.10/dist-packages (from ultralytics) (0.20.1+cu121)\n",
            "Requirement already satisfied: tqdm>=4.64.0 in /usr/local/lib/python3.10/dist-packages (from ultralytics) (4.66.6)\n",
            "Requirement already satisfied: psutil in /usr/local/lib/python3.10/dist-packages (from ultralytics) (5.9.5)\n",
            "Requirement already satisfied: py-cpuinfo in /usr/local/lib/python3.10/dist-packages (from ultralytics) (9.0.0)\n",
            "Requirement already satisfied: pandas>=1.1.4 in /usr/local/lib/python3.10/dist-packages (from ultralytics) (2.2.2)\n",
            "Requirement already satisfied: seaborn>=0.11.0 in /usr/local/lib/python3.10/dist-packages (from ultralytics) (0.13.2)\n",
            "Collecting ultralytics-thop>=2.0.0 (from ultralytics)\n",
            "  Downloading ultralytics_thop-2.0.12-py3-none-any.whl.metadata (9.4 kB)\n",
            "Requirement already satisfied: contourpy>=1.0.1 in /usr/local/lib/python3.10/dist-packages (from matplotlib>=3.3.0->ultralytics) (1.3.1)\n",
            "Requirement already satisfied: cycler>=0.10 in /usr/local/lib/python3.10/dist-packages (from matplotlib>=3.3.0->ultralytics) (0.12.1)\n",
            "Requirement already satisfied: fonttools>=4.22.0 in /usr/local/lib/python3.10/dist-packages (from matplotlib>=3.3.0->ultralytics) (4.55.0)\n",
            "Requirement already satisfied: kiwisolver>=1.0.1 in /usr/local/lib/python3.10/dist-packages (from matplotlib>=3.3.0->ultralytics) (1.4.7)\n",
            "Requirement already satisfied: packaging>=20.0 in /usr/local/lib/python3.10/dist-packages (from matplotlib>=3.3.0->ultralytics) (24.2)\n",
            "Requirement already satisfied: pyparsing>=2.3.1 in /usr/local/lib/python3.10/dist-packages (from matplotlib>=3.3.0->ultralytics) (3.2.0)\n",
            "Requirement already satisfied: python-dateutil>=2.7 in /usr/local/lib/python3.10/dist-packages (from matplotlib>=3.3.0->ultralytics) (2.8.2)\n",
            "Requirement already satisfied: pytz>=2020.1 in /usr/local/lib/python3.10/dist-packages (from pandas>=1.1.4->ultralytics) (2024.2)\n",
            "Requirement already satisfied: tzdata>=2022.7 in /usr/local/lib/python3.10/dist-packages (from pandas>=1.1.4->ultralytics) (2024.2)\n",
            "Requirement already satisfied: charset-normalizer<4,>=2 in /usr/local/lib/python3.10/dist-packages (from requests>=2.23.0->ultralytics) (3.4.0)\n",
            "Requirement already satisfied: idna<4,>=2.5 in /usr/local/lib/python3.10/dist-packages (from requests>=2.23.0->ultralytics) (3.10)\n",
            "Requirement already satisfied: urllib3<3,>=1.21.1 in /usr/local/lib/python3.10/dist-packages (from requests>=2.23.0->ultralytics) (2.2.3)\n",
            "Requirement already satisfied: certifi>=2017.4.17 in /usr/local/lib/python3.10/dist-packages (from requests>=2.23.0->ultralytics) (2024.8.30)\n",
            "Requirement already satisfied: filelock in /usr/local/lib/python3.10/dist-packages (from torch>=1.8.0->ultralytics) (3.16.1)\n",
            "Requirement already satisfied: typing-extensions>=4.8.0 in /usr/local/lib/python3.10/dist-packages (from torch>=1.8.0->ultralytics) (4.12.2)\n",
            "Requirement already satisfied: networkx in /usr/local/lib/python3.10/dist-packages (from torch>=1.8.0->ultralytics) (3.4.2)\n",
            "Requirement already satisfied: jinja2 in /usr/local/lib/python3.10/dist-packages (from torch>=1.8.0->ultralytics) (3.1.4)\n",
            "Requirement already satisfied: fsspec in /usr/local/lib/python3.10/dist-packages (from torch>=1.8.0->ultralytics) (2024.10.0)\n",
            "Requirement already satisfied: sympy==1.13.1 in /usr/local/lib/python3.10/dist-packages (from torch>=1.8.0->ultralytics) (1.13.1)\n",
            "Requirement already satisfied: mpmath<1.4,>=1.1.0 in /usr/local/lib/python3.10/dist-packages (from sympy==1.13.1->torch>=1.8.0->ultralytics) (1.3.0)\n",
            "Requirement already satisfied: six>=1.5 in /usr/local/lib/python3.10/dist-packages (from python-dateutil>=2.7->matplotlib>=3.3.0->ultralytics) (1.16.0)\n",
            "Requirement already satisfied: MarkupSafe>=2.0 in /usr/local/lib/python3.10/dist-packages (from jinja2->torch>=1.8.0->ultralytics) (3.0.2)\n",
            "Downloading ultralytics-8.3.36-py3-none-any.whl (887 kB)\n",
            "\u001b[2K   \u001b[90m━━━━━━━━━━━━━━━━━━━━━━━━━━━━━━━━━━━━━━━━\u001b[0m \u001b[32m887.3/887.3 kB\u001b[0m \u001b[31m16.1 MB/s\u001b[0m eta \u001b[36m0:00:00\u001b[0m\n",
            "\u001b[?25hDownloading ultralytics_thop-2.0.12-py3-none-any.whl (26 kB)\n",
            "Installing collected packages: ultralytics-thop, ultralytics\n",
            "Successfully installed ultralytics-8.3.36 ultralytics-thop-2.0.12\n"
          ]
        }
      ],
      "source": [
        "!pip install ultralytics\n"
      ]
    },
    {
      "cell_type": "code",
      "execution_count": null,
      "id": "d47816a8",
      "metadata": {
        "id": "d47816a8"
      },
      "outputs": [],
      "source": [
        "from IPython import display\n",
        "display.clear_output()"
      ]
    },
    {
      "cell_type": "code",
      "execution_count": null,
      "id": "31cc007f",
      "metadata": {
        "colab": {
          "base_uri": "https://localhost:8080/"
        },
        "id": "31cc007f",
        "outputId": "dd42e956-a410-404f-e772-63a2ee5406ac"
      },
      "outputs": [
        {
          "output_type": "stream",
          "name": "stdout",
          "text": [
            "Ultralytics 8.3.36 🚀 Python-3.10.12 torch-2.5.1+cu121 CPU (Intel Xeon 2.20GHz)\n",
            "Setup complete ✅ (2 CPUs, 12.7 GB RAM, 32.5/107.7 GB disk)\n"
          ]
        }
      ],
      "source": [
        "import ultralytics\n",
        "ultralytics.checks()"
      ]
    },
    {
      "cell_type": "code",
      "execution_count": null,
      "id": "7f3dd461",
      "metadata": {
        "id": "7f3dd461"
      },
      "outputs": [],
      "source": [
        "from ultralytics import YOLO\n",
        "\n",
        "from IPython.display import display, Image"
      ]
    },
    {
      "cell_type": "code",
      "execution_count": null,
      "id": "c5f1e30b",
      "metadata": {
        "colab": {
          "base_uri": "https://localhost:8080/"
        },
        "id": "c5f1e30b",
        "outputId": "04ef8c9b-f9dd-4732-cf01-7a0130e889ac"
      },
      "outputs": [
        {
          "output_type": "stream",
          "name": "stdout",
          "text": [
            "/content\n",
            "Downloading https://github.com/ultralytics/assets/releases/download/v8.3.0/yolov8n-seg.pt to 'yolov8n-seg.pt'...\n",
            "100% 6.74M/6.74M [00:00<00:00, 108MB/s]\n",
            "Ultralytics 8.3.36 🚀 Python-3.10.12 torch-2.5.1+cu121 CPU (Intel Xeon 2.20GHz)\n",
            "YOLOv8n-seg summary (fused): 195 layers, 3,404,320 parameters, 0 gradients, 12.6 GFLOPs\n",
            "\n",
            "Downloading https://media.roboflow.com/notebooks/examples/dog.jpeg to 'dog.jpeg'...\n",
            "100% 104k/104k [00:00<00:00, 59.2MB/s]\n",
            "image 1/1 /content/dog.jpeg: 640x384 1 person, 1 dog, 419.7ms\n",
            "Speed: 16.8ms preprocess, 419.7ms inference, 48.8ms postprocess per image at shape (1, 3, 640, 384)\n",
            "Results saved to \u001b[1mruns/segment/predict\u001b[0m\n",
            "💡 Learn more at https://docs.ultralytics.com/modes/predict\n"
          ]
        }
      ],
      "source": [
        "%cd {HOME}\n",
        "!yolo task=segment mode=predict model=yolov8n-seg.pt conf=0.25 source='https://media.roboflow.com/notebooks/examples/dog.jpeg'"
      ]
    },
    {
      "cell_type": "code",
      "execution_count": null,
      "id": "fcdac8c2",
      "metadata": {
        "colab": {
          "base_uri": "https://localhost:8080/",
          "height": 356
        },
        "id": "fcdac8c2",
        "outputId": "b18a2b23-c60d-41b0-d239-c163ba5ef50d"
      },
      "outputs": [
        {
          "output_type": "stream",
          "name": "stdout",
          "text": [
            "/content\n"
          ]
        },
        {
          "output_type": "error",
          "ename": "FileNotFoundError",
          "evalue": "[Errno 2] No such file or directory: '/Users/Computer Arena/Computer Vision/Project/dog.jpeg'",
          "traceback": [
            "\u001b[0;31m---------------------------------------------------------------------------\u001b[0m",
            "\u001b[0;31mFileNotFoundError\u001b[0m                         Traceback (most recent call last)",
            "\u001b[0;32m<ipython-input-7-7f5257630dcc>\u001b[0m in \u001b[0;36m<cell line: 2>\u001b[0;34m()\u001b[0m\n\u001b[1;32m      1\u001b[0m \u001b[0mget_ipython\u001b[0m\u001b[0;34m(\u001b[0m\u001b[0;34m)\u001b[0m\u001b[0;34m.\u001b[0m\u001b[0mrun_line_magic\u001b[0m\u001b[0;34m(\u001b[0m\u001b[0;34m'cd'\u001b[0m\u001b[0;34m,\u001b[0m \u001b[0;34m'{HOME}'\u001b[0m\u001b[0;34m)\u001b[0m\u001b[0;34m\u001b[0m\u001b[0;34m\u001b[0m\u001b[0m\n\u001b[0;32m----> 2\u001b[0;31m \u001b[0mImage\u001b[0m\u001b[0;34m(\u001b[0m\u001b[0mfilename\u001b[0m\u001b[0;34m=\u001b[0m\u001b[0;34m'/Users/Computer Arena/Computer Vision/Project/dog.jpeg'\u001b[0m\u001b[0;34m,\u001b[0m \u001b[0mheight\u001b[0m\u001b[0;34m=\u001b[0m\u001b[0;36m600\u001b[0m\u001b[0;34m)\u001b[0m\u001b[0;34m\u001b[0m\u001b[0;34m\u001b[0m\u001b[0m\n\u001b[0m",
            "\u001b[0;32m/usr/local/lib/python3.10/dist-packages/IPython/core/display.py\u001b[0m in \u001b[0;36m__init__\u001b[0;34m(self, data, url, filename, format, embed, width, height, retina, unconfined, metadata)\u001b[0m\n\u001b[1;32m   1229\u001b[0m         \u001b[0mself\u001b[0m\u001b[0;34m.\u001b[0m\u001b[0mretina\u001b[0m \u001b[0;34m=\u001b[0m \u001b[0mretina\u001b[0m\u001b[0;34m\u001b[0m\u001b[0;34m\u001b[0m\u001b[0m\n\u001b[1;32m   1230\u001b[0m         \u001b[0mself\u001b[0m\u001b[0;34m.\u001b[0m\u001b[0munconfined\u001b[0m \u001b[0;34m=\u001b[0m \u001b[0munconfined\u001b[0m\u001b[0;34m\u001b[0m\u001b[0;34m\u001b[0m\u001b[0m\n\u001b[0;32m-> 1231\u001b[0;31m         super(Image, self).__init__(data=data, url=url, filename=filename, \n\u001b[0m\u001b[1;32m   1232\u001b[0m                 metadata=metadata)\n\u001b[1;32m   1233\u001b[0m \u001b[0;34m\u001b[0m\u001b[0m\n",
            "\u001b[0;32m/usr/local/lib/python3.10/dist-packages/IPython/core/display.py\u001b[0m in \u001b[0;36m__init__\u001b[0;34m(self, data, url, filename, metadata)\u001b[0m\n\u001b[1;32m    635\u001b[0m             \u001b[0mself\u001b[0m\u001b[0;34m.\u001b[0m\u001b[0mmetadata\u001b[0m \u001b[0;34m=\u001b[0m \u001b[0;34m{\u001b[0m\u001b[0;34m}\u001b[0m\u001b[0;34m\u001b[0m\u001b[0;34m\u001b[0m\u001b[0m\n\u001b[1;32m    636\u001b[0m \u001b[0;34m\u001b[0m\u001b[0m\n\u001b[0;32m--> 637\u001b[0;31m         \u001b[0mself\u001b[0m\u001b[0;34m.\u001b[0m\u001b[0mreload\u001b[0m\u001b[0;34m(\u001b[0m\u001b[0;34m)\u001b[0m\u001b[0;34m\u001b[0m\u001b[0;34m\u001b[0m\u001b[0m\n\u001b[0m\u001b[1;32m    638\u001b[0m         \u001b[0mself\u001b[0m\u001b[0;34m.\u001b[0m\u001b[0m_check_data\u001b[0m\u001b[0;34m(\u001b[0m\u001b[0;34m)\u001b[0m\u001b[0;34m\u001b[0m\u001b[0;34m\u001b[0m\u001b[0m\n\u001b[1;32m    639\u001b[0m \u001b[0;34m\u001b[0m\u001b[0m\n",
            "\u001b[0;32m/usr/local/lib/python3.10/dist-packages/IPython/core/display.py\u001b[0m in \u001b[0;36mreload\u001b[0;34m(self)\u001b[0m\n\u001b[1;32m   1261\u001b[0m         \u001b[0;34m\"\"\"Reload the raw data from file or URL.\"\"\"\u001b[0m\u001b[0;34m\u001b[0m\u001b[0;34m\u001b[0m\u001b[0m\n\u001b[1;32m   1262\u001b[0m         \u001b[0;32mif\u001b[0m \u001b[0mself\u001b[0m\u001b[0;34m.\u001b[0m\u001b[0membed\u001b[0m\u001b[0;34m:\u001b[0m\u001b[0;34m\u001b[0m\u001b[0;34m\u001b[0m\u001b[0m\n\u001b[0;32m-> 1263\u001b[0;31m             \u001b[0msuper\u001b[0m\u001b[0;34m(\u001b[0m\u001b[0mImage\u001b[0m\u001b[0;34m,\u001b[0m\u001b[0mself\u001b[0m\u001b[0;34m)\u001b[0m\u001b[0;34m.\u001b[0m\u001b[0mreload\u001b[0m\u001b[0;34m(\u001b[0m\u001b[0;34m)\u001b[0m\u001b[0;34m\u001b[0m\u001b[0;34m\u001b[0m\u001b[0m\n\u001b[0m\u001b[1;32m   1264\u001b[0m             \u001b[0;32mif\u001b[0m \u001b[0mself\u001b[0m\u001b[0;34m.\u001b[0m\u001b[0mretina\u001b[0m\u001b[0;34m:\u001b[0m\u001b[0;34m\u001b[0m\u001b[0;34m\u001b[0m\u001b[0m\n\u001b[1;32m   1265\u001b[0m                 \u001b[0mself\u001b[0m\u001b[0;34m.\u001b[0m\u001b[0m_retina_shape\u001b[0m\u001b[0;34m(\u001b[0m\u001b[0;34m)\u001b[0m\u001b[0;34m\u001b[0m\u001b[0;34m\u001b[0m\u001b[0m\n",
            "\u001b[0;32m/usr/local/lib/python3.10/dist-packages/IPython/core/display.py\u001b[0m in \u001b[0;36mreload\u001b[0;34m(self)\u001b[0m\n\u001b[1;32m    660\u001b[0m         \u001b[0;34m\"\"\"Reload the raw data from file or URL.\"\"\"\u001b[0m\u001b[0;34m\u001b[0m\u001b[0;34m\u001b[0m\u001b[0m\n\u001b[1;32m    661\u001b[0m         \u001b[0;32mif\u001b[0m \u001b[0mself\u001b[0m\u001b[0;34m.\u001b[0m\u001b[0mfilename\u001b[0m \u001b[0;32mis\u001b[0m \u001b[0;32mnot\u001b[0m \u001b[0;32mNone\u001b[0m\u001b[0;34m:\u001b[0m\u001b[0;34m\u001b[0m\u001b[0;34m\u001b[0m\u001b[0m\n\u001b[0;32m--> 662\u001b[0;31m             \u001b[0;32mwith\u001b[0m \u001b[0mopen\u001b[0m\u001b[0;34m(\u001b[0m\u001b[0mself\u001b[0m\u001b[0;34m.\u001b[0m\u001b[0mfilename\u001b[0m\u001b[0;34m,\u001b[0m \u001b[0mself\u001b[0m\u001b[0;34m.\u001b[0m\u001b[0m_read_flags\u001b[0m\u001b[0;34m)\u001b[0m \u001b[0;32mas\u001b[0m \u001b[0mf\u001b[0m\u001b[0;34m:\u001b[0m\u001b[0;34m\u001b[0m\u001b[0;34m\u001b[0m\u001b[0m\n\u001b[0m\u001b[1;32m    663\u001b[0m                 \u001b[0mself\u001b[0m\u001b[0;34m.\u001b[0m\u001b[0mdata\u001b[0m \u001b[0;34m=\u001b[0m \u001b[0mf\u001b[0m\u001b[0;34m.\u001b[0m\u001b[0mread\u001b[0m\u001b[0;34m(\u001b[0m\u001b[0;34m)\u001b[0m\u001b[0;34m\u001b[0m\u001b[0;34m\u001b[0m\u001b[0m\n\u001b[1;32m    664\u001b[0m         \u001b[0;32melif\u001b[0m \u001b[0mself\u001b[0m\u001b[0;34m.\u001b[0m\u001b[0murl\u001b[0m \u001b[0;32mis\u001b[0m \u001b[0;32mnot\u001b[0m \u001b[0;32mNone\u001b[0m\u001b[0;34m:\u001b[0m\u001b[0;34m\u001b[0m\u001b[0;34m\u001b[0m\u001b[0m\n",
            "\u001b[0;31mFileNotFoundError\u001b[0m: [Errno 2] No such file or directory: '/Users/Computer Arena/Computer Vision/Project/dog.jpeg'"
          ]
        }
      ],
      "source": [
        "%cd {HOME}\n",
        "Image(filename='/Users/Computer Arena/Computer Vision/Project/dog.jpeg', height=600)"
      ]
    },
    {
      "cell_type": "code",
      "execution_count": null,
      "id": "7e8b1ab4",
      "metadata": {
        "id": "7e8b1ab4"
      },
      "outputs": [],
      "source": [
        "import os\n",
        "os.makedirs(\"C:/Users/Computer Arena/Computer Vision/Project/datasets\", exist_ok=True)\n",
        "os.chdir(\"C:/Users/Computer Arena/Computer Vision/Project/datasets\")\n"
      ]
    },
    {
      "cell_type": "code",
      "execution_count": null,
      "id": "85b813b7",
      "metadata": {
        "colab": {
          "base_uri": "https://localhost:8080/"
        },
        "id": "85b813b7",
        "outputId": "ac3a52b2-3b74-44f0-ff3c-b4c6495b1626"
      },
      "outputs": [
        {
          "output_type": "stream",
          "name": "stdout",
          "text": [
            "\u001b[?25l   \u001b[90m━━━━━━━━━━━━━━━━━━━━━━━━━━━━━━━━━━━━━━━━\u001b[0m \u001b[32m0.0/80.9 kB\u001b[0m \u001b[31m?\u001b[0m eta \u001b[36m-:--:--\u001b[0m\r\u001b[2K   \u001b[90m━━━━━━━━━━━━━━━━━━━━━━━━━━━━━━━━━━━━━━━━\u001b[0m \u001b[32m80.9/80.9 kB\u001b[0m \u001b[31m4.1 MB/s\u001b[0m eta \u001b[36m0:00:00\u001b[0m\n",
            "\u001b[?25h\u001b[?25l   \u001b[90m━━━━━━━━━━━━━━━━━━━━━━━━━━━━━━━━━━━━━━━━\u001b[0m \u001b[32m0.0/66.8 kB\u001b[0m \u001b[31m?\u001b[0m eta \u001b[36m-:--:--\u001b[0m\r\u001b[2K   \u001b[90m━━━━━━━━━━━━━━━━━━━━━━━━━━━━━━━━━━━━━━━━\u001b[0m \u001b[32m66.8/66.8 kB\u001b[0m \u001b[31m4.5 MB/s\u001b[0m eta \u001b[36m0:00:00\u001b[0m\n",
            "\u001b[?25h"
          ]
        }
      ],
      "source": [
        "!pip install roboflow --quiet"
      ]
    },
    {
      "cell_type": "code",
      "execution_count": null,
      "id": "5683c675",
      "metadata": {
        "colab": {
          "base_uri": "https://localhost:8080/"
        },
        "id": "5683c675",
        "outputId": "c5ad8a60-f317-44d6-f932-f685c6b4506b"
      },
      "outputs": [
        {
          "output_type": "stream",
          "name": "stdout",
          "text": [
            "loading Roboflow workspace...\n",
            "loading Roboflow project...\n"
          ]
        },
        {
          "output_type": "stream",
          "name": "stderr",
          "text": [
            "Downloading Dataset Version Zip in Yolov8-seg-1 to yolov8:: 100%|██████████| 1537/1537 [00:00<00:00, 6403.89it/s]"
          ]
        },
        {
          "output_type": "stream",
          "name": "stdout",
          "text": [
            "\n"
          ]
        },
        {
          "output_type": "stream",
          "name": "stderr",
          "text": [
            "\n",
            "Extracting Dataset Version Zip to Yolov8-seg-1 in yolov8:: 100%|██████████| 50/50 [00:00<00:00, 1156.51it/s]\n"
          ]
        }
      ],
      "source": [
        "\n",
        "from roboflow import Roboflow\n",
        "rf = Roboflow(api_key=\"9R1pxp3niz1MAgiskAVF\")\n",
        "project = rf.workspace(\"faizan-fzarx\").project(\"yolov8-seg-akciv\")\n",
        "version = project.version(1)\n",
        "dataset = version.download(\"yolov8\")\n",
        "\n"
      ]
    },
    {
      "cell_type": "code",
      "execution_count": null,
      "id": "8739d6b7",
      "metadata": {
        "id": "8739d6b7"
      },
      "outputs": [],
      "source": [
        "from ultralytics import YOLO"
      ]
    },
    {
      "cell_type": "code",
      "execution_count": null,
      "id": "29c4da97",
      "metadata": {
        "id": "29c4da97"
      },
      "outputs": [],
      "source": []
    },
    {
      "cell_type": "code",
      "execution_count": null,
      "id": "6e11dd02",
      "metadata": {
        "id": "6e11dd02",
        "outputId": "4429e0c0-252a-45ac-e8f5-8ffb64f65380"
      },
      "outputs": [
        {
          "name": "stdout",
          "output_type": "stream",
          "text": [
            "Requirement already satisfied: torch in d:\\anaconda\\lib\\site-packages (2.5.1)Note: you may need to restart the kernel to use updated packages.\n",
            "\n",
            "Requirement already satisfied: filelock in d:\\anaconda\\lib\\site-packages (from torch) (3.9.0)\n",
            "Requirement already satisfied: typing-extensions>=4.8.0 in d:\\anaconda\\lib\\site-packages (from torch) (4.12.2)\n",
            "Requirement already satisfied: networkx in d:\\anaconda\\lib\\site-packages (from torch) (3.1)\n",
            "Requirement already satisfied: jinja2 in d:\\anaconda\\lib\\site-packages (from torch) (3.1.2)\n",
            "Requirement already satisfied: fsspec in d:\\anaconda\\lib\\site-packages (from torch) (2023.4.0)\n",
            "Requirement already satisfied: sympy==1.13.1 in d:\\anaconda\\lib\\site-packages (from torch) (1.13.1)\n",
            "Requirement already satisfied: mpmath<1.4,>=1.1.0 in d:\\anaconda\\lib\\site-packages (from sympy==1.13.1->torch) (1.3.0)\n",
            "Requirement already satisfied: MarkupSafe>=2.0 in d:\\anaconda\\lib\\site-packages (from jinja2->torch) (2.1.1)\n"
          ]
        }
      ],
      "source": [
        "pip install --upgrade torch"
      ]
    },
    {
      "cell_type": "code",
      "execution_count": null,
      "id": "44fd5ae0",
      "metadata": {
        "id": "44fd5ae0",
        "outputId": "face4feb-d4a6-4e9b-9da7-26fd5ad14276"
      },
      "outputs": [
        {
          "name": "stdout",
          "output_type": "stream",
          "text": [
            "Requirement already satisfied: numpy in d:\\anaconda\\lib\\site-packages (1.24.3)\n",
            "Collecting numpy\n",
            "  Obtaining dependency information for numpy from https://files.pythonhosted.org/packages/1e/48/a9a4b538e28f854bfb62e1dea3c8fea12e90216a276c7777ae5345ff29a7/numpy-2.1.3-cp311-cp311-win_amd64.whl.metadata\n",
            "  Downloading numpy-2.1.3-cp311-cp311-win_amd64.whl.metadata (60 kB)\n",
            "     ---------------------------------------- 0.0/60.8 kB ? eta -:--:--\n",
            "     ------ --------------------------------- 10.2/60.8 kB ? eta -:--:--\n",
            "     ------------ ------------------------- 20.5/60.8 kB 162.5 kB/s eta 0:00:01\n",
            "     ------------------- ------------------ 30.7/60.8 kB 186.2 kB/s eta 0:00:01\n",
            "     ------------------------------- ------ 51.2/60.8 kB 238.1 kB/s eta 0:00:01\n",
            "     -------------------------------------- 60.8/60.8 kB 248.1 kB/s eta 0:00:00\n",
            "Downloading numpy-2.1.3-cp311-cp311-win_amd64.whl (12.9 MB)\n",
            "   ---------------------------------------- 0.0/12.9 MB ? eta -:--:--\n",
            "   ---------------------------------------- 0.0/12.9 MB ? eta -:--:--\n",
            "   ---------------------------------------- 0.2/12.9 MB 2.3 MB/s eta 0:00:06\n",
            "    --------------------------------------- 0.3/12.9 MB 2.5 MB/s eta 0:00:06\n",
            "   - -------------------------------------- 0.6/12.9 MB 3.5 MB/s eta 0:00:04\n",
            "   -- ------------------------------------- 0.9/12.9 MB 4.6 MB/s eta 0:00:03\n",
            "   ----- ---------------------------------- 1.7/12.9 MB 6.6 MB/s eta 0:00:02\n",
            "   ------- -------------------------------- 2.3/12.9 MB 7.7 MB/s eta 0:00:02\n",
            "   --------- ------------------------------ 3.1/12.9 MB 8.8 MB/s eta 0:00:02\n",
            "   ----------- ---------------------------- 3.7/12.9 MB 9.5 MB/s eta 0:00:01\n",
            "   ------------- -------------------------- 4.3/12.9 MB 9.8 MB/s eta 0:00:01\n",
            "   --------------- ------------------------ 5.0/12.9 MB 10.2 MB/s eta 0:00:01\n",
            "   ----------------- ---------------------- 5.5/12.9 MB 10.4 MB/s eta 0:00:01\n",
            "   ------------------- -------------------- 6.2/12.9 MB 10.7 MB/s eta 0:00:01\n",
            "   --------------------- ------------------ 6.8/12.9 MB 10.8 MB/s eta 0:00:01\n",
            "   ---------------------- ----------------- 7.3/12.9 MB 10.9 MB/s eta 0:00:01\n",
            "   ------------------------ --------------- 7.8/12.9 MB 10.8 MB/s eta 0:00:01\n",
            "   -------------------------- ------------- 8.6/12.9 MB 11.2 MB/s eta 0:00:01\n",
            "   ----------------------------- ---------- 9.3/12.9 MB 11.5 MB/s eta 0:00:01\n",
            "   ------------------------------ --------- 9.9/12.9 MB 11.5 MB/s eta 0:00:01\n",
            "   --------------------------------- ------ 10.7/12.9 MB 13.6 MB/s eta 0:00:01\n",
            "   ----------------------------------- ---- 11.3/12.9 MB 13.9 MB/s eta 0:00:01\n",
            "   ------------------------------------ --- 11.8/12.9 MB 13.6 MB/s eta 0:00:01\n",
            "   -------------------------------------- - 12.5/12.9 MB 13.6 MB/s eta 0:00:01\n",
            "   ---------------------------------------  12.9/12.9 MB 13.6 MB/s eta 0:00:01\n",
            "   ---------------------------------------- 12.9/12.9 MB 12.6 MB/s eta 0:00:00\n",
            "Installing collected packages: numpy\n",
            "  Attempting uninstall: numpy\n",
            "    Found existing installation: numpy 1.24.3\n",
            "    Uninstalling numpy-1.24.3:\n",
            "      Successfully uninstalled numpy-1.24.3\n",
            "Note: you may need to restart the kernel to use updated packages.\n"
          ]
        },
        {
          "name": "stderr",
          "output_type": "stream",
          "text": [
            "ERROR: Could not install packages due to an OSError: [WinError 5] Access is denied: 'D:\\\\Anaconda\\\\Lib\\\\site-packages\\\\~umpy\\\\core\\\\_multiarray_tests.cp311-win_amd64.pyd'\n",
            "Consider using the `--user` option or check the permissions.\n",
            "\n"
          ]
        }
      ],
      "source": [
        "pip install --upgrade numpy\n"
      ]
    },
    {
      "cell_type": "code",
      "execution_count": null,
      "id": "dbb0775b",
      "metadata": {
        "id": "dbb0775b",
        "outputId": "371c7843-f084-4241-be13-c24d32deeaef"
      },
      "outputs": [
        {
          "name": "stdout",
          "output_type": "stream",
          "text": [
            "Requirement already satisfied: numpy in c:\\users\\computer arena\\appdata\\roaming\\python\\python311\\site-packages (2.1.3)\n",
            "Note: you may need to restart the kernel to use updated packages.\n"
          ]
        }
      ],
      "source": [
        "pip install --upgrade numpy --user\n"
      ]
    },
    {
      "cell_type": "code",
      "execution_count": null,
      "id": "8657bfb9",
      "metadata": {
        "id": "8657bfb9",
        "outputId": "b1e6ae73-e496-4403-8b5e-007a38b24b66"
      },
      "outputs": [
        {
          "name": "stdout",
          "output_type": "stream",
          "text": [
            "Found existing installation: numpy 1.24.4\n",
            "Uninstalling numpy-1.24.4:\n",
            "  Successfully uninstalled numpy-1.24.4\n",
            "Note: you may need to restart the kernel to use updated packages.\n"
          ]
        }
      ],
      "source": [
        "pip uninstall numpy --yes\n"
      ]
    },
    {
      "cell_type": "code",
      "execution_count": null,
      "id": "c1302254",
      "metadata": {
        "id": "c1302254",
        "outputId": "9bb21dca-e79b-4441-f086-414f59c286d8"
      },
      "outputs": [
        {
          "name": "stdout",
          "output_type": "stream",
          "text": [
            "Collecting numpy==1.23.5\n",
            "  Obtaining dependency information for numpy==1.23.5 from https://files.pythonhosted.org/packages/19/0d/b8c34e4baf258d77a8592bdce45183e9a12874c167f5966c7dd467b74ea9/numpy-1.23.5-cp311-cp311-win_amd64.whl.metadata\n",
            "  Downloading numpy-1.23.5-cp311-cp311-win_amd64.whl.metadata (2.3 kB)\n",
            "Downloading numpy-1.23.5-cp311-cp311-win_amd64.whl (14.6 MB)\n",
            "   ---------------------------------------- 0.0/14.6 MB ? eta -:--:--\n",
            "   ---------------------------------------- 0.0/14.6 MB ? eta -:--:--\n",
            "   ---------------------------------------- 0.0/14.6 MB 162.5 kB/s eta 0:01:30\n",
            "   ---------------------------------------- 0.0/14.6 MB 186.2 kB/s eta 0:01:19\n",
            "   ---------------------------------------- 0.0/14.6 MB 245.8 kB/s eta 0:01:00\n",
            "   ---------------------------------------- 0.1/14.6 MB 381.3 kB/s eta 0:00:39\n",
            "   ---------------------------------------- 0.2/14.6 MB 748.1 kB/s eta 0:00:20\n",
            "    --------------------------------------- 0.3/14.6 MB 1.0 MB/s eta 0:00:15\n",
            "   - -------------------------------------- 0.4/14.6 MB 1.2 MB/s eta 0:00:12\n",
            "   - -------------------------------------- 0.7/14.6 MB 1.8 MB/s eta 0:00:08\n",
            "   --- ------------------------------------ 1.3/14.6 MB 3.0 MB/s eta 0:00:05\n",
            "   ---- ----------------------------------- 1.7/14.6 MB 3.7 MB/s eta 0:00:04\n",
            "   ------ --------------------------------- 2.5/14.6 MB 5.1 MB/s eta 0:00:03\n",
            "   -------- ------------------------------- 3.2/14.6 MB 5.7 MB/s eta 0:00:02\n",
            "   ---------- ----------------------------- 3.9/14.6 MB 6.3 MB/s eta 0:00:02\n",
            "   ------------ --------------------------- 4.4/14.6 MB 6.7 MB/s eta 0:00:02\n",
            "   -------------- ------------------------- 5.1/14.6 MB 7.3 MB/s eta 0:00:02\n",
            "   -------------- ------------------------- 5.1/14.6 MB 7.3 MB/s eta 0:00:02\n",
            "   -------------- ------------------------- 5.1/14.6 MB 7.3 MB/s eta 0:00:02\n",
            "   -------------- ------------------------- 5.1/14.6 MB 7.3 MB/s eta 0:00:02\n",
            "   ---------------- ----------------------- 6.0/14.6 MB 6.8 MB/s eta 0:00:02\n",
            "   ------------------- -------------------- 7.3/14.6 MB 7.7 MB/s eta 0:00:01\n",
            "   ------------------------- -------------- 9.2/14.6 MB 9.2 MB/s eta 0:00:01\n",
            "   --------------------------- ------------ 10.0/14.6 MB 9.5 MB/s eta 0:00:01\n",
            "   ---------------------------- ----------- 10.5/14.6 MB 12.6 MB/s eta 0:00:01\n",
            "   ------------------------------ --------- 11.1/14.6 MB 13.9 MB/s eta 0:00:01\n",
            "   ------------------------------- -------- 11.6/14.6 MB 13.9 MB/s eta 0:00:01\n",
            "   --------------------------------- ------ 12.2/14.6 MB 13.6 MB/s eta 0:00:01\n",
            "   ---------------------------------- ----- 12.7/14.6 MB 13.6 MB/s eta 0:00:01\n",
            "   ------------------------------------ --- 13.3/14.6 MB 13.6 MB/s eta 0:00:01\n",
            "   ------------------------------------- -- 13.8/14.6 MB 13.4 MB/s eta 0:00:01\n",
            "   ---------------------------------------  14.3/14.6 MB 13.6 MB/s eta 0:00:01\n",
            "   ---------------------------------------  14.6/14.6 MB 13.6 MB/s eta 0:00:01\n",
            "   ---------------------------------------- 14.6/14.6 MB 12.6 MB/s eta 0:00:00\n",
            "Installing collected packages: numpy\n",
            "Successfully installed numpy-1.23.5\n",
            "Note: you may need to restart the kernel to use updated packages.\n"
          ]
        },
        {
          "name": "stderr",
          "output_type": "stream",
          "text": [
            "ERROR: pip's dependency resolver does not currently take into account all the packages that are installed. This behaviour is the source of the following dependency conflicts.\n",
            "pyfume 0.3.4 requires numpy==1.24.4, but you have numpy 1.23.5 which is incompatible.\n",
            "tables 3.8.0 requires blosc2~=2.0.0, but you have blosc2 2.7.1 which is incompatible.\n"
          ]
        }
      ],
      "source": [
        "pip install numpy==1.23.5\n"
      ]
    },
    {
      "cell_type": "code",
      "execution_count": null,
      "id": "fbbbdd3a",
      "metadata": {
        "id": "fbbbdd3a",
        "outputId": "db7a5d84-d609-47e5-ed29-636eec8b01d6"
      },
      "outputs": [
        {
          "name": "stdout",
          "output_type": "stream",
          "text": [
            "Collecting FuzzyTM\n",
            "  Obtaining dependency information for FuzzyTM from https://files.pythonhosted.org/packages/2d/30/074bac7a25866a2807c1005c7852c0139ac22ba837871fc01f16df29b9dc/FuzzyTM-2.0.9-py3-none-any.whl.metadata\n",
            "  Using cached FuzzyTM-2.0.9-py3-none-any.whl.metadata (7.9 kB)\n",
            "Collecting blosc2\n",
            "  Obtaining dependency information for blosc2 from https://files.pythonhosted.org/packages/df/e1/36db3625759c8e620ed992450e9579a02f023538292883e04189845d98d0/blosc2-2.7.1-cp311-cp311-win_amd64.whl.metadata\n",
            "  Using cached blosc2-2.7.1-cp311-cp311-win_amd64.whl.metadata (9.3 kB)\n",
            "Requirement already satisfied: cython in d:\\anaconda\\lib\\site-packages (3.0.11)\n",
            "Requirement already satisfied: numpy in d:\\anaconda\\lib\\site-packages (from FuzzyTM) (1.24.4)\n",
            "Requirement already satisfied: pandas in d:\\anaconda\\lib\\site-packages (from FuzzyTM) (1.5.3)\n",
            "Requirement already satisfied: scipy in d:\\anaconda\\lib\\site-packages (from FuzzyTM) (1.10.1)\n",
            "Collecting pyfume (from FuzzyTM)\n",
            "  Obtaining dependency information for pyfume from https://files.pythonhosted.org/packages/ed/ea/a3b120e251145dcdb10777f2bc5f18b1496fd999d705a178c1b0ad947ce1/pyFUME-0.3.4-py3-none-any.whl.metadata\n",
            "  Using cached pyFUME-0.3.4-py3-none-any.whl.metadata (9.7 kB)\n",
            "Requirement already satisfied: ndindex>=1.4 in d:\\anaconda\\lib\\site-packages (from blosc2) (1.9.2)\n",
            "Requirement already satisfied: msgpack in d:\\anaconda\\lib\\site-packages (from blosc2) (1.0.3)\n",
            "Requirement already satisfied: numexpr in d:\\anaconda\\lib\\site-packages (from blosc2) (2.8.4)\n",
            "Requirement already satisfied: py-cpuinfo in d:\\anaconda\\lib\\site-packages (from blosc2) (8.0.0)\n",
            "Requirement already satisfied: python-dateutil>=2.8.1 in d:\\anaconda\\lib\\site-packages (from pandas->FuzzyTM) (2.8.2)\n",
            "Requirement already satisfied: pytz>=2020.1 in d:\\anaconda\\lib\\site-packages (from pandas->FuzzyTM) (2023.3.post1)\n",
            "Collecting simpful==2.12.0 (from pyfume->FuzzyTM)\n",
            "  Obtaining dependency information for simpful==2.12.0 from https://files.pythonhosted.org/packages/9d/0e/aebc2fb0b0f481994179b2ee2b8e6bbf0894d971594688c018375e7076ea/simpful-2.12.0-py3-none-any.whl.metadata\n",
            "  Using cached simpful-2.12.0-py3-none-any.whl.metadata (4.8 kB)\n",
            "Collecting fst-pso==1.8.1 (from pyfume->FuzzyTM)\n",
            "  Using cached fst_pso-1.8.1-py3-none-any.whl\n",
            "Collecting miniful (from fst-pso==1.8.1->pyfume->FuzzyTM)\n",
            "  Using cached miniful-0.0.6-py3-none-any.whl\n",
            "Requirement already satisfied: six>=1.5 in d:\\anaconda\\lib\\site-packages (from python-dateutil>=2.8.1->pandas->FuzzyTM) (1.16.0)\n",
            "Using cached FuzzyTM-2.0.9-py3-none-any.whl (31 kB)\n",
            "Using cached blosc2-2.7.1-cp311-cp311-win_amd64.whl (2.4 MB)\n",
            "Using cached pyFUME-0.3.4-py3-none-any.whl (60 kB)\n",
            "Using cached simpful-2.12.0-py3-none-any.whl (24 kB)\n",
            "Installing collected packages: simpful, miniful, blosc2, fst-pso, pyfume, FuzzyTM\n",
            "Successfully installed FuzzyTM-2.0.9 blosc2-2.7.1 fst-pso-1.8.1 miniful-0.0.6 pyfume-0.3.4 simpful-2.12.0\n",
            "Note: you may need to restart the kernel to use updated packages.\n"
          ]
        },
        {
          "name": "stderr",
          "output_type": "stream",
          "text": [
            "ERROR: pip's dependency resolver does not currently take into account all the packages that are installed. This behaviour is the source of the following dependency conflicts.\n",
            "tables 3.8.0 requires blosc2~=2.0.0, but you have blosc2 2.7.1 which is incompatible.\n"
          ]
        }
      ],
      "source": [
        "pip install FuzzyTM blosc2 cython --user\n"
      ]
    },
    {
      "cell_type": "code",
      "execution_count": null,
      "id": "f8957496",
      "metadata": {
        "id": "f8957496",
        "outputId": "55bd490c-bab8-48e5-9556-53aa86f8a190"
      },
      "outputs": [
        {
          "name": "stdout",
          "output_type": "stream",
          "text": [
            "Collecting blosc2==2.0.0\n",
            "  Obtaining dependency information for blosc2==2.0.0 from https://files.pythonhosted.org/packages/03/d0/685258d475e09d8884d64c8a1eb90a3428fbba782e60b7926f9fdb82c297/blosc2-2.0.0-cp311-cp311-win_amd64.whl.metadata\n",
            "  Downloading blosc2-2.0.0-cp311-cp311-win_amd64.whl.metadata (11 kB)\n",
            "Requirement already satisfied: msgpack in d:\\anaconda\\lib\\site-packages (from blosc2==2.0.0) (1.0.3)\n",
            "Downloading blosc2-2.0.0-cp311-cp311-win_amd64.whl (1.9 MB)\n",
            "   ---------------------------------------- 0.0/1.9 MB ? eta -:--:--\n",
            "   ---------------------------------------- 0.0/1.9 MB ? eta -:--:--\n",
            "   ---------------------------------------- 0.0/1.9 MB ? eta -:--:--\n",
            "    --------------------------------------- 0.0/1.9 MB 393.8 kB/s eta 0:00:05\n",
            "   - -------------------------------------- 0.1/1.9 MB 651.6 kB/s eta 0:00:03\n",
            "   --- ------------------------------------ 0.2/1.9 MB 1.2 MB/s eta 0:00:02\n",
            "   ------ --------------------------------- 0.3/1.9 MB 1.5 MB/s eta 0:00:02\n",
            "   -------- ------------------------------- 0.4/1.9 MB 1.7 MB/s eta 0:00:01\n",
            "   ---------------- ----------------------- 0.8/1.9 MB 2.9 MB/s eta 0:00:01\n",
            "   --------------------- ------------------ 1.0/1.9 MB 3.5 MB/s eta 0:00:01\n",
            "   --------------------- ------------------ 1.0/1.9 MB 3.5 MB/s eta 0:00:01\n",
            "   --------------------- ------------------ 1.0/1.9 MB 3.5 MB/s eta 0:00:01\n",
            "   ---------------------------- ----------- 1.4/1.9 MB 3.2 MB/s eta 0:00:01\n",
            "   ---------------------------------------  1.9/1.9 MB 4.1 MB/s eta 0:00:01\n",
            "   ---------------------------------------- 1.9/1.9 MB 3.9 MB/s eta 0:00:00\n",
            "Installing collected packages: blosc2\n",
            "  Attempting uninstall: blosc2\n",
            "    Found existing installation: blosc2 2.7.1\n",
            "    Uninstalling blosc2-2.7.1:\n",
            "      Successfully uninstalled blosc2-2.7.1\n",
            "Successfully installed blosc2-2.0.0\n",
            "Note: you may need to restart the kernel to use updated packages.\n"
          ]
        }
      ],
      "source": [
        "pip install blosc2==2.0.0\n"
      ]
    },
    {
      "cell_type": "code",
      "execution_count": null,
      "id": "656b14ca",
      "metadata": {
        "scrolled": true,
        "id": "656b14ca",
        "outputId": "b4747862-ccbb-4de4-8035-510b7a03004f"
      },
      "outputs": [
        {
          "name": "stdout",
          "output_type": "stream",
          "text": [
            "Requirement already satisfied: ultralytics in d:\\anaconda\\lib\\site-packages (8.3.36)Note: you may need to restart the kernel to use updated packages.\n",
            "\n",
            "Requirement already satisfied: numpy>=1.23.0 in d:\\anaconda\\lib\\site-packages (from ultralytics) (1.23.5)\n",
            "Requirement already satisfied: matplotlib>=3.3.0 in d:\\anaconda\\lib\\site-packages (from ultralytics) (3.7.2)\n",
            "Requirement already satisfied: opencv-python>=4.6.0 in d:\\anaconda\\lib\\site-packages (from ultralytics) (4.10.0.84)\n",
            "Requirement already satisfied: pillow>=7.1.2 in d:\\anaconda\\lib\\site-packages (from ultralytics) (10.3.0)\n",
            "Requirement already satisfied: pyyaml>=5.3.1 in d:\\anaconda\\lib\\site-packages (from ultralytics) (6.0)\n",
            "Requirement already satisfied: requests>=2.23.0 in d:\\anaconda\\lib\\site-packages (from ultralytics) (2.31.0)\n",
            "Requirement already satisfied: scipy>=1.4.1 in d:\\anaconda\\lib\\site-packages (from ultralytics) (1.10.1)\n",
            "Requirement already satisfied: torch>=1.8.0 in d:\\anaconda\\lib\\site-packages (from ultralytics) (2.5.1)\n",
            "Requirement already satisfied: torchvision>=0.9.0 in d:\\anaconda\\lib\\site-packages (from ultralytics) (0.20.1)\n",
            "Requirement already satisfied: tqdm>=4.64.0 in d:\\anaconda\\lib\\site-packages (from ultralytics) (4.65.0)\n",
            "Requirement already satisfied: psutil in d:\\anaconda\\lib\\site-packages (from ultralytics) (5.9.0)\n",
            "Requirement already satisfied: py-cpuinfo in d:\\anaconda\\lib\\site-packages (from ultralytics) (8.0.0)\n",
            "Requirement already satisfied: pandas>=1.1.4 in d:\\anaconda\\lib\\site-packages (from ultralytics) (1.5.3)\n",
            "Requirement already satisfied: seaborn>=0.11.0 in d:\\anaconda\\lib\\site-packages (from ultralytics) (0.12.2)\n",
            "Requirement already satisfied: ultralytics-thop>=2.0.0 in d:\\anaconda\\lib\\site-packages (from ultralytics) (2.0.11)\n",
            "Requirement already satisfied: contourpy>=1.0.1 in d:\\anaconda\\lib\\site-packages (from matplotlib>=3.3.0->ultralytics) (1.0.5)\n",
            "Requirement already satisfied: cycler>=0.10 in d:\\anaconda\\lib\\site-packages (from matplotlib>=3.3.0->ultralytics) (0.11.0)\n",
            "Requirement already satisfied: fonttools>=4.22.0 in d:\\anaconda\\lib\\site-packages (from matplotlib>=3.3.0->ultralytics) (4.25.0)\n",
            "Requirement already satisfied: kiwisolver>=1.0.1 in d:\\anaconda\\lib\\site-packages (from matplotlib>=3.3.0->ultralytics) (1.4.4)\n",
            "Requirement already satisfied: packaging>=20.0 in d:\\anaconda\\lib\\site-packages (from matplotlib>=3.3.0->ultralytics) (23.1)\n",
            "Requirement already satisfied: pyparsing<3.1,>=2.3.1 in d:\\anaconda\\lib\\site-packages (from matplotlib>=3.3.0->ultralytics) (3.0.9)\n",
            "Requirement already satisfied: python-dateutil>=2.7 in d:\\anaconda\\lib\\site-packages (from matplotlib>=3.3.0->ultralytics) (2.8.2)\n",
            "Requirement already satisfied: pytz>=2020.1 in d:\\anaconda\\lib\\site-packages (from pandas>=1.1.4->ultralytics) (2023.3.post1)\n",
            "Requirement already satisfied: charset-normalizer<4,>=2 in d:\\anaconda\\lib\\site-packages (from requests>=2.23.0->ultralytics) (2.0.4)\n",
            "Requirement already satisfied: idna<4,>=2.5 in d:\\anaconda\\lib\\site-packages (from requests>=2.23.0->ultralytics) (3.7)\n",
            "Requirement already satisfied: urllib3<3,>=1.21.1 in d:\\anaconda\\lib\\site-packages (from requests>=2.23.0->ultralytics) (1.26.16)\n",
            "Requirement already satisfied: certifi>=2017.4.17 in d:\\anaconda\\lib\\site-packages (from requests>=2.23.0->ultralytics) (2024.8.30)\n",
            "Requirement already satisfied: filelock in d:\\anaconda\\lib\\site-packages (from torch>=1.8.0->ultralytics) (3.9.0)\n",
            "Requirement already satisfied: typing-extensions>=4.8.0 in d:\\anaconda\\lib\\site-packages (from torch>=1.8.0->ultralytics) (4.12.2)\n",
            "Requirement already satisfied: networkx in d:\\anaconda\\lib\\site-packages (from torch>=1.8.0->ultralytics) (3.1)\n",
            "Requirement already satisfied: jinja2 in d:\\anaconda\\lib\\site-packages (from torch>=1.8.0->ultralytics) (3.1.2)\n",
            "Requirement already satisfied: fsspec in d:\\anaconda\\lib\\site-packages (from torch>=1.8.0->ultralytics) (2023.4.0)\n",
            "Requirement already satisfied: sympy==1.13.1 in d:\\anaconda\\lib\\site-packages (from torch>=1.8.0->ultralytics) (1.13.1)\n",
            "Requirement already satisfied: mpmath<1.4,>=1.1.0 in d:\\anaconda\\lib\\site-packages (from sympy==1.13.1->torch>=1.8.0->ultralytics) (1.3.0)\n",
            "Requirement already satisfied: colorama in d:\\anaconda\\lib\\site-packages (from tqdm>=4.64.0->ultralytics) (0.4.6)\n",
            "Requirement already satisfied: six>=1.5 in d:\\anaconda\\lib\\site-packages (from python-dateutil>=2.7->matplotlib>=3.3.0->ultralytics) (1.16.0)\n",
            "Requirement already satisfied: MarkupSafe>=2.0 in d:\\anaconda\\lib\\site-packages (from jinja2->torch>=1.8.0->ultralytics) (2.1.1)\n"
          ]
        }
      ],
      "source": [
        "pip install -U ultralytics"
      ]
    },
    {
      "cell_type": "code",
      "execution_count": null,
      "id": "bdf66f4c",
      "metadata": {
        "colab": {
          "base_uri": "https://localhost:8080/"
        },
        "id": "bdf66f4c",
        "outputId": "ec9bf86b-cd63-4726-c484-9e6846ecad84"
      },
      "outputs": [
        {
          "output_type": "stream",
          "name": "stdout",
          "text": [
            "Ultralytics 8.3.36 🚀 Python-3.10.12 torch-2.5.1+cu121 CPU (Intel Xeon 2.20GHz)\n",
            "\u001b[34m\u001b[1mengine/trainer: \u001b[0mtask=segment, mode=train, model=yolov8n-seg.pt, data=/content/Yolov8-seg-1/data.yaml, epochs=100, time=None, patience=100, batch=16, imgsz=640, save=True, save_period=-1, cache=False, device=None, workers=8, project=None, name=train2, exist_ok=False, pretrained=True, optimizer=auto, verbose=True, seed=0, deterministic=True, single_cls=False, rect=False, cos_lr=False, close_mosaic=10, resume=False, amp=True, fraction=1.0, profile=False, freeze=None, multi_scale=False, overlap_mask=True, mask_ratio=4, dropout=0.0, val=True, split=val, save_json=False, save_hybrid=False, conf=None, iou=0.7, max_det=300, half=False, dnn=False, plots=True, source=None, vid_stride=1, stream_buffer=False, visualize=False, augment=False, agnostic_nms=False, classes=None, retina_masks=False, embed=None, show=False, save_frames=False, save_txt=False, save_conf=False, save_crop=False, show_labels=True, show_conf=True, show_boxes=True, line_width=None, format=torchscript, keras=False, optimize=False, int8=False, dynamic=False, simplify=True, opset=None, workspace=4, nms=False, lr0=0.01, lrf=0.01, momentum=0.937, weight_decay=0.0005, warmup_epochs=3.0, warmup_momentum=0.8, warmup_bias_lr=0.1, box=7.5, cls=0.5, dfl=1.5, pose=12.0, kobj=1.0, label_smoothing=0.0, nbs=64, hsv_h=0.015, hsv_s=0.7, hsv_v=0.4, degrees=0.0, translate=0.1, scale=0.5, shear=0.0, perspective=0.0, flipud=0.0, fliplr=0.5, bgr=0.0, mosaic=1.0, mixup=0.0, copy_paste=0.0, copy_paste_mode=flip, auto_augment=randaugment, erasing=0.4, crop_fraction=1.0, cfg=None, tracker=botsort.yaml, save_dir=runs/segment/train2\n",
            "Downloading https://ultralytics.com/assets/Arial.ttf to '/root/.config/Ultralytics/Arial.ttf'...\n",
            "100% 755k/755k [00:00<00:00, 17.9MB/s]\n",
            "Overriding model.yaml nc=80 with nc=1\n",
            "\n",
            "                   from  n    params  module                                       arguments                     \n",
            "  0                  -1  1       464  ultralytics.nn.modules.conv.Conv             [3, 16, 3, 2]                 \n",
            "  1                  -1  1      4672  ultralytics.nn.modules.conv.Conv             [16, 32, 3, 2]                \n",
            "  2                  -1  1      7360  ultralytics.nn.modules.block.C2f             [32, 32, 1, True]             \n",
            "  3                  -1  1     18560  ultralytics.nn.modules.conv.Conv             [32, 64, 3, 2]                \n",
            "  4                  -1  2     49664  ultralytics.nn.modules.block.C2f             [64, 64, 2, True]             \n",
            "  5                  -1  1     73984  ultralytics.nn.modules.conv.Conv             [64, 128, 3, 2]               \n",
            "  6                  -1  2    197632  ultralytics.nn.modules.block.C2f             [128, 128, 2, True]           \n",
            "  7                  -1  1    295424  ultralytics.nn.modules.conv.Conv             [128, 256, 3, 2]              \n",
            "  8                  -1  1    460288  ultralytics.nn.modules.block.C2f             [256, 256, 1, True]           \n",
            "  9                  -1  1    164608  ultralytics.nn.modules.block.SPPF            [256, 256, 5]                 \n",
            " 10                  -1  1         0  torch.nn.modules.upsampling.Upsample         [None, 2, 'nearest']          \n",
            " 11             [-1, 6]  1         0  ultralytics.nn.modules.conv.Concat           [1]                           \n",
            " 12                  -1  1    148224  ultralytics.nn.modules.block.C2f             [384, 128, 1]                 \n",
            " 13                  -1  1         0  torch.nn.modules.upsampling.Upsample         [None, 2, 'nearest']          \n",
            " 14             [-1, 4]  1         0  ultralytics.nn.modules.conv.Concat           [1]                           \n",
            " 15                  -1  1     37248  ultralytics.nn.modules.block.C2f             [192, 64, 1]                  \n",
            " 16                  -1  1     36992  ultralytics.nn.modules.conv.Conv             [64, 64, 3, 2]                \n",
            " 17            [-1, 12]  1         0  ultralytics.nn.modules.conv.Concat           [1]                           \n",
            " 18                  -1  1    123648  ultralytics.nn.modules.block.C2f             [192, 128, 1]                 \n",
            " 19                  -1  1    147712  ultralytics.nn.modules.conv.Conv             [128, 128, 3, 2]              \n",
            " 20             [-1, 9]  1         0  ultralytics.nn.modules.conv.Concat           [1]                           \n",
            " 21                  -1  1    493056  ultralytics.nn.modules.block.C2f             [384, 256, 1]                 \n",
            " 22        [15, 18, 21]  1   1004275  ultralytics.nn.modules.head.Segment          [1, 32, 64, [64, 128, 256]]   \n",
            "YOLOv8n-seg summary: 261 layers, 3,263,811 parameters, 3,263,795 gradients, 12.1 GFLOPs\n",
            "\n",
            "Transferred 381/417 items from pretrained weights\n",
            "\u001b[34m\u001b[1mTensorBoard: \u001b[0mStart with 'tensorboard --logdir runs/segment/train2', view at http://localhost:6006/\n",
            "Freezing layer 'model.22.dfl.conv.weight'\n",
            "\u001b[34m\u001b[1mtrain: \u001b[0mScanning /content/Yolov8-seg-1/train/labels... 13 images, 0 backgrounds, 0 corrupt: 100% 13/13 [00:00<00:00, 186.58it/s]\n",
            "\u001b[34m\u001b[1mtrain: \u001b[0mNew cache created: /content/Yolov8-seg-1/train/labels.cache\n",
            "/usr/local/lib/python3.10/dist-packages/albumentations/__init__.py:24: UserWarning: A new version of Albumentations is available: 1.4.21 (you have 1.4.20). Upgrade using: pip install -U albumentations. To disable automatic update checks, set the environment variable NO_ALBUMENTATIONS_UPDATE to 1.\n",
            "  check_for_updates()\n",
            "\u001b[34m\u001b[1malbumentations: \u001b[0mBlur(p=0.01, blur_limit=(3, 7)), MedianBlur(p=0.01, blur_limit=(3, 7)), ToGray(p=0.01, num_output_channels=3, method='weighted_average'), CLAHE(p=0.01, clip_limit=(1.0, 4.0), tile_grid_size=(8, 8))\n",
            "\u001b[34m\u001b[1mval: \u001b[0mScanning /content/Yolov8-seg-1/valid/labels... 4 images, 0 backgrounds, 0 corrupt: 100% 4/4 [00:00<00:00, 600.54it/s]\n",
            "\u001b[34m\u001b[1mval: \u001b[0mNew cache created: /content/Yolov8-seg-1/valid/labels.cache\n",
            "Plotting labels to runs/segment/train2/labels.jpg... \n",
            "\u001b[34m\u001b[1moptimizer:\u001b[0m 'optimizer=auto' found, ignoring 'lr0=0.01' and 'momentum=0.937' and determining best 'optimizer', 'lr0' and 'momentum' automatically... \n",
            "\u001b[34m\u001b[1moptimizer:\u001b[0m AdamW(lr=0.002, momentum=0.9) with parameter groups 66 weight(decay=0.0), 77 weight(decay=0.0005), 76 bias(decay=0.0)\n",
            "\u001b[34m\u001b[1mTensorBoard: \u001b[0mmodel graph visualization added ✅\n",
            "Image sizes 640 train, 640 val\n",
            "Using 0 dataloader workers\n",
            "Logging results to \u001b[1mruns/segment/train2\u001b[0m\n",
            "Starting training for 100 epochs...\n",
            "\n",
            "      Epoch    GPU_mem   box_loss   seg_loss   cls_loss   dfl_loss  Instances       Size\n",
            "      1/100         0G      1.926      3.518      3.073      1.764        273        640: 100% 1/1 [00:26<00:00, 26.01s/it]\n",
            "                 Class     Images  Instances      Box(P          R      mAP50  mAP50-95)     Mask(P          R      mAP50  mAP50-95): 100% 1/1 [00:03<00:00,  3.20s/it]\n",
            "                   all          4         60     0.0275       0.55       0.15      0.103       0.03        0.6      0.156     0.0909\n",
            "\n",
            "      Epoch    GPU_mem   box_loss   seg_loss   cls_loss   dfl_loss  Instances       Size\n",
            "      2/100         0G      2.146      3.682      3.175      1.877        316        640: 100% 1/1 [00:23<00:00, 23.18s/it]\n",
            "                 Class     Images  Instances      Box(P          R      mAP50  mAP50-95)     Mask(P          R      mAP50  mAP50-95): 100% 1/1 [00:02<00:00,  2.79s/it]\n",
            "                   all          4         60     0.0308      0.617      0.158      0.105     0.0308      0.617      0.159     0.0952\n",
            "\n",
            "      Epoch    GPU_mem   box_loss   seg_loss   cls_loss   dfl_loss  Instances       Size\n",
            "      3/100         0G      2.214      3.615       3.22      1.881        348        640: 100% 1/1 [00:22<00:00, 22.14s/it]\n",
            "                 Class     Images  Instances      Box(P          R      mAP50  mAP50-95)     Mask(P          R      mAP50  mAP50-95): 100% 1/1 [00:02<00:00,  2.85s/it]\n",
            "                   all          4         60      0.035        0.7      0.181      0.118     0.0333      0.667      0.189      0.108\n",
            "\n",
            "      Epoch    GPU_mem   box_loss   seg_loss   cls_loss   dfl_loss  Instances       Size\n",
            "      4/100         0G      2.076      3.439      3.155      1.785        384        640: 100% 1/1 [00:21<00:00, 21.99s/it]\n",
            "                 Class     Images  Instances      Box(P          R      mAP50  mAP50-95)     Mask(P          R      mAP50  mAP50-95): 100% 1/1 [00:03<00:00,  3.23s/it]\n",
            "                   all          4         60     0.0392      0.783      0.242      0.126     0.0358      0.717      0.228      0.119\n",
            "\n",
            "      Epoch    GPU_mem   box_loss   seg_loss   cls_loss   dfl_loss  Instances       Size\n",
            "      5/100         0G      1.648       3.08      2.954      1.554        289        640: 100% 1/1 [00:19<00:00, 19.61s/it]\n",
            "                 Class     Images  Instances      Box(P          R      mAP50  mAP50-95)     Mask(P          R      mAP50  mAP50-95): 100% 1/1 [00:02<00:00,  2.27s/it]\n",
            "                   all          4         60     0.0392      0.783      0.234      0.152     0.0383      0.767      0.245      0.148\n",
            "\n",
            "      Epoch    GPU_mem   box_loss   seg_loss   cls_loss   dfl_loss  Instances       Size\n",
            "      6/100         0G       1.51      2.862      2.873      1.429        307        640: 100% 1/1 [00:20<00:00, 20.95s/it]\n",
            "                 Class     Images  Instances      Box(P          R      mAP50  mAP50-95)     Mask(P          R      mAP50  mAP50-95): 100% 1/1 [00:02<00:00,  2.47s/it]\n",
            "                   all          4         60     0.0442      0.883      0.276      0.169     0.0433      0.867      0.266      0.162\n",
            "\n",
            "      Epoch    GPU_mem   box_loss   seg_loss   cls_loss   dfl_loss  Instances       Size\n",
            "      7/100         0G      1.468       2.59      2.834      1.419        334        640: 100% 1/1 [00:24<00:00, 24.44s/it]\n",
            "                 Class     Images  Instances      Box(P          R      mAP50  mAP50-95)     Mask(P          R      mAP50  mAP50-95): 100% 1/1 [00:02<00:00,  2.46s/it]\n",
            "                   all          4         60     0.0442      0.883       0.32      0.174     0.0433      0.867      0.321       0.16\n",
            "\n",
            "      Epoch    GPU_mem   box_loss   seg_loss   cls_loss   dfl_loss  Instances       Size\n",
            "      8/100         0G      1.224      2.291       2.66      1.242        327        640: 100% 1/1 [00:20<00:00, 20.62s/it]\n",
            "                 Class     Images  Instances      Box(P          R      mAP50  mAP50-95)     Mask(P          R      mAP50  mAP50-95): 100% 1/1 [00:03<00:00,  3.51s/it]\n",
            "                   all          4         60      0.045        0.9      0.391       0.19     0.0442      0.883      0.393      0.178\n",
            "\n",
            "      Epoch    GPU_mem   box_loss   seg_loss   cls_loss   dfl_loss  Instances       Size\n",
            "      9/100         0G       1.24      2.258      2.587      1.223        368        640: 100% 1/1 [00:20<00:00, 20.79s/it]\n",
            "                 Class     Images  Instances      Box(P          R      mAP50  mAP50-95)     Mask(P          R      mAP50  mAP50-95): 100% 1/1 [00:02<00:00,  2.47s/it]\n",
            "                   all          4         60     0.0458      0.917       0.48       0.25      0.045        0.9      0.485      0.235\n",
            "\n",
            "      Epoch    GPU_mem   box_loss   seg_loss   cls_loss   dfl_loss  Instances       Size\n",
            "     10/100         0G       1.27      2.272      2.562      1.215        454        640: 100% 1/1 [00:23<00:00, 23.42s/it]\n",
            "                 Class     Images  Instances      Box(P          R      mAP50  mAP50-95)     Mask(P          R      mAP50  mAP50-95): 100% 1/1 [00:02<00:00,  2.47s/it]\n",
            "                   all          4         60     0.0458      0.917      0.575       0.35     0.0442      0.883      0.568      0.301\n",
            "\n",
            "      Epoch    GPU_mem   box_loss   seg_loss   cls_loss   dfl_loss  Instances       Size\n",
            "     11/100         0G      1.169      1.893      2.215      1.128        382        640: 100% 1/1 [00:22<00:00, 22.19s/it]\n",
            "                 Class     Images  Instances      Box(P          R      mAP50  mAP50-95)     Mask(P          R      mAP50  mAP50-95): 100% 1/1 [00:02<00:00,  2.49s/it]\n",
            "                   all          4         60     0.0458      0.917      0.647      0.393     0.0467      0.933       0.65      0.341\n",
            "\n",
            "      Epoch    GPU_mem   box_loss   seg_loss   cls_loss   dfl_loss  Instances       Size\n",
            "     12/100         0G      1.185      1.897      2.006      1.096        347        640: 100% 1/1 [00:20<00:00, 20.07s/it]\n",
            "                 Class     Images  Instances      Box(P          R      mAP50  mAP50-95)     Mask(P          R      mAP50  mAP50-95): 100% 1/1 [00:03<00:00,  3.52s/it]\n",
            "                   all          4         60      0.794      0.633      0.689      0.409      0.794      0.633      0.678      0.363\n",
            "\n",
            "      Epoch    GPU_mem   box_loss   seg_loss   cls_loss   dfl_loss  Instances       Size\n",
            "     13/100         0G      1.038      1.604      1.704      1.043        307        640: 100% 1/1 [00:19<00:00, 19.92s/it]\n",
            "                 Class     Images  Instances      Box(P          R      mAP50  mAP50-95)     Mask(P          R      mAP50  mAP50-95): 100% 1/1 [00:02<00:00,  2.46s/it]\n",
            "                   all          4         60          1      0.332      0.703      0.436       0.95      0.315      0.691      0.396\n",
            "\n",
            "      Epoch    GPU_mem   box_loss   seg_loss   cls_loss   dfl_loss  Instances       Size\n",
            "     14/100         0G      1.042      1.701      1.711      1.045        407        640: 100% 1/1 [00:21<00:00, 21.59s/it]\n",
            "                 Class     Images  Instances      Box(P          R      mAP50  mAP50-95)     Mask(P          R      mAP50  mAP50-95): 100% 1/1 [00:02<00:00,  2.46s/it]\n",
            "                   all          4         60          1      0.462      0.726      0.451      0.928      0.433      0.742      0.412\n",
            "\n",
            "      Epoch    GPU_mem   box_loss   seg_loss   cls_loss   dfl_loss  Instances       Size\n",
            "     15/100         0G      1.091      1.845       1.38      1.039        240        640: 100% 1/1 [00:18<00:00, 18.27s/it]\n",
            "                 Class     Images  Instances      Box(P          R      mAP50  mAP50-95)     Mask(P          R      mAP50  mAP50-95): 100% 1/1 [00:03<00:00,  3.18s/it]\n",
            "                   all          4         60      0.946      0.585      0.786      0.499      0.921      0.582      0.804      0.472\n",
            "\n",
            "      Epoch    GPU_mem   box_loss   seg_loss   cls_loss   dfl_loss  Instances       Size\n",
            "     16/100         0G     0.9446       1.49      1.292      1.005        305        640: 100% 1/1 [00:19<00:00, 19.64s/it]\n",
            "                 Class     Images  Instances      Box(P          R      mAP50  mAP50-95)     Mask(P          R      mAP50  mAP50-95): 100% 1/1 [00:02<00:00,  2.43s/it]\n",
            "                   all          4         60      0.933      0.695       0.83      0.531      0.955      0.712      0.864      0.543\n",
            "\n",
            "      Epoch    GPU_mem   box_loss   seg_loss   cls_loss   dfl_loss  Instances       Size\n",
            "     17/100         0G      1.075      1.555      1.319      1.028        390        640: 100% 1/1 [00:21<00:00, 21.72s/it]\n",
            "                 Class     Images  Instances      Box(P          R      mAP50  mAP50-95)     Mask(P          R      mAP50  mAP50-95): 100% 1/1 [00:02<00:00,  2.47s/it]\n",
            "                   all          4         60      0.961      0.733      0.859      0.538      0.978      0.747      0.872      0.563\n",
            "\n",
            "      Epoch    GPU_mem   box_loss   seg_loss   cls_loss   dfl_loss  Instances       Size\n",
            "     18/100         0G     0.9799       1.48      1.185     0.9885        392        640: 100% 1/1 [00:19<00:00, 19.77s/it]\n",
            "                 Class     Images  Instances      Box(P          R      mAP50  mAP50-95)     Mask(P          R      mAP50  mAP50-95): 100% 1/1 [00:03<00:00,  3.43s/it]\n",
            "                   all          4         60      0.961      0.733      0.859      0.538      0.978      0.747      0.872      0.563\n",
            "\n",
            "      Epoch    GPU_mem   box_loss   seg_loss   cls_loss   dfl_loss  Instances       Size\n",
            "     19/100         0G     0.9234      1.478      1.101     0.9982        314        640: 100% 1/1 [00:19<00:00, 19.38s/it]\n",
            "                 Class     Images  Instances      Box(P          R      mAP50  mAP50-95)     Mask(P          R      mAP50  mAP50-95): 100% 1/1 [00:02<00:00,  2.43s/it]\n",
            "                   all          4         60       0.98      0.835      0.907      0.553       0.98      0.835      0.908      0.575\n",
            "\n",
            "      Epoch    GPU_mem   box_loss   seg_loss   cls_loss   dfl_loss  Instances       Size\n",
            "     20/100         0G     0.9356      1.604      1.139     0.9983        416        640: 100% 1/1 [00:22<00:00, 22.24s/it]\n",
            "                 Class     Images  Instances      Box(P          R      mAP50  mAP50-95)     Mask(P          R      mAP50  mAP50-95): 100% 1/1 [00:02<00:00,  2.44s/it]\n",
            "                   all          4         60       0.98      0.835      0.907      0.553       0.98      0.835      0.908      0.575\n",
            "\n",
            "      Epoch    GPU_mem   box_loss   seg_loss   cls_loss   dfl_loss  Instances       Size\n",
            "     21/100         0G     0.8805       1.51      1.038     0.9843        297        640: 100% 1/1 [00:19<00:00, 19.76s/it]\n",
            "                 Class     Images  Instances      Box(P          R      mAP50  mAP50-95)     Mask(P          R      mAP50  mAP50-95): 100% 1/1 [00:03<00:00,  3.26s/it]\n",
            "                   all          4         60      0.976      0.833      0.923       0.59      0.976      0.833      0.924      0.599\n",
            "\n",
            "      Epoch    GPU_mem   box_loss   seg_loss   cls_loss   dfl_loss  Instances       Size\n",
            "     22/100         0G     0.8731      1.406     0.9666     0.9661        306        640: 100% 1/1 [00:19<00:00, 19.54s/it]\n",
            "                 Class     Images  Instances      Box(P          R      mAP50  mAP50-95)     Mask(P          R      mAP50  mAP50-95): 100% 1/1 [00:02<00:00,  2.45s/it]\n",
            "                   all          4         60      0.976      0.833      0.923       0.59      0.976      0.833      0.924      0.599\n",
            "\n",
            "      Epoch    GPU_mem   box_loss   seg_loss   cls_loss   dfl_loss  Instances       Size\n",
            "     23/100         0G     0.9471       1.47      1.051     0.9949        401        640: 100% 1/1 [00:21<00:00, 21.69s/it]\n",
            "                 Class     Images  Instances      Box(P          R      mAP50  mAP50-95)     Mask(P          R      mAP50  mAP50-95): 100% 1/1 [00:02<00:00,  2.42s/it]\n",
            "                   all          4         60       0.98       0.83      0.928      0.626       0.98       0.83      0.931      0.644\n",
            "\n",
            "      Epoch    GPU_mem   box_loss   seg_loss   cls_loss   dfl_loss  Instances       Size\n",
            "     24/100         0G     0.8703      1.394     0.9489     0.9884        231        640: 100% 1/1 [00:18<00:00, 18.71s/it]\n",
            "                 Class     Images  Instances      Box(P          R      mAP50  mAP50-95)     Mask(P          R      mAP50  mAP50-95): 100% 1/1 [00:03<00:00,  3.03s/it]\n",
            "                   all          4         60       0.98       0.83      0.928      0.626       0.98       0.83      0.931      0.644\n",
            "\n",
            "      Epoch    GPU_mem   box_loss   seg_loss   cls_loss   dfl_loss  Instances       Size\n",
            "     25/100         0G     0.9299      1.329     0.9697     0.9929        403        640: 100% 1/1 [00:20<00:00, 20.63s/it]\n",
            "                 Class     Images  Instances      Box(P          R      mAP50  mAP50-95)     Mask(P          R      mAP50  mAP50-95): 100% 1/1 [00:03<00:00,  3.04s/it]\n",
            "                   all          4         60       0.98      0.832      0.936      0.648       0.98      0.832      0.936      0.659\n",
            "\n",
            "      Epoch    GPU_mem   box_loss   seg_loss   cls_loss   dfl_loss  Instances       Size\n",
            "     26/100         0G      0.914      1.621     0.9396     0.9883        430        640: 100% 1/1 [00:21<00:00, 21.23s/it]\n",
            "                 Class     Images  Instances      Box(P          R      mAP50  mAP50-95)     Mask(P          R      mAP50  mAP50-95): 100% 1/1 [00:02<00:00,  2.48s/it]\n",
            "                   all          4         60       0.98      0.832      0.936      0.648       0.98      0.832      0.936      0.659\n",
            "\n",
            "      Epoch    GPU_mem   box_loss   seg_loss   cls_loss   dfl_loss  Instances       Size\n",
            "     27/100         0G     0.9371      1.366     0.9445     0.9687        451        640: 100% 1/1 [00:22<00:00, 22.35s/it]\n",
            "                 Class     Images  Instances      Box(P          R      mAP50  mAP50-95)     Mask(P          R      mAP50  mAP50-95): 100% 1/1 [00:02<00:00,  2.47s/it]\n",
            "                   all          4         60      0.981      0.848      0.934      0.625      0.981      0.848      0.938      0.643\n",
            "\n",
            "      Epoch    GPU_mem   box_loss   seg_loss   cls_loss   dfl_loss  Instances       Size\n",
            "     28/100         0G     0.8569      1.273     0.8552     0.9494        301        640: 100% 1/1 [00:19<00:00, 19.44s/it]\n",
            "                 Class     Images  Instances      Box(P          R      mAP50  mAP50-95)     Mask(P          R      mAP50  mAP50-95): 100% 1/1 [00:03<00:00,  3.27s/it]\n",
            "                   all          4         60      0.981      0.848      0.934      0.625      0.981      0.848      0.938      0.643\n",
            "\n",
            "      Epoch    GPU_mem   box_loss   seg_loss   cls_loss   dfl_loss  Instances       Size\n",
            "     29/100         0G     0.8905      1.258     0.8528     0.9739        374        640: 100% 1/1 [00:19<00:00, 19.92s/it]\n",
            "                 Class     Images  Instances      Box(P          R      mAP50  mAP50-95)     Mask(P          R      mAP50  mAP50-95): 100% 1/1 [00:02<00:00,  2.47s/it]\n",
            "                   all          4         60      0.981       0.86      0.934       0.67      0.981       0.86      0.936      0.643\n",
            "\n",
            "      Epoch    GPU_mem   box_loss   seg_loss   cls_loss   dfl_loss  Instances       Size\n",
            "     30/100         0G     0.8075      1.209     0.8222     0.9438        332        640: 100% 1/1 [00:20<00:00, 20.80s/it]\n",
            "                 Class     Images  Instances      Box(P          R      mAP50  mAP50-95)     Mask(P          R      mAP50  mAP50-95): 100% 1/1 [00:02<00:00,  2.50s/it]\n",
            "                   all          4         60      0.981       0.86      0.934       0.67      0.981       0.86      0.936      0.643\n",
            "\n",
            "      Epoch    GPU_mem   box_loss   seg_loss   cls_loss   dfl_loss  Instances       Size\n",
            "     31/100         0G     0.8132      1.324     0.8552     0.9684        279        640: 100% 1/1 [00:19<00:00, 19.50s/it]\n",
            "                 Class     Images  Instances      Box(P          R      mAP50  mAP50-95)     Mask(P          R      mAP50  mAP50-95): 100% 1/1 [00:03<00:00,  3.13s/it]\n",
            "                   all          4         60      0.981      0.862      0.935      0.726      0.981      0.862       0.94      0.688\n",
            "\n",
            "      Epoch    GPU_mem   box_loss   seg_loss   cls_loss   dfl_loss  Instances       Size\n",
            "     32/100         0G     0.7859      1.237      0.801     0.9338        330        640: 100% 1/1 [00:19<00:00, 19.75s/it]\n",
            "                 Class     Images  Instances      Box(P          R      mAP50  mAP50-95)     Mask(P          R      mAP50  mAP50-95): 100% 1/1 [00:02<00:00,  2.57s/it]\n",
            "                   all          4         60      0.981      0.862      0.935      0.726      0.981      0.862       0.94      0.688\n",
            "\n",
            "      Epoch    GPU_mem   box_loss   seg_loss   cls_loss   dfl_loss  Instances       Size\n",
            "     33/100         0G     0.8525      1.273     0.8233     0.9505        389        640: 100% 1/1 [00:21<00:00, 21.13s/it]\n",
            "                 Class     Images  Instances      Box(P          R      mAP50  mAP50-95)     Mask(P          R      mAP50  mAP50-95): 100% 1/1 [00:02<00:00,  2.47s/it]\n",
            "                   all          4         60       0.97      0.867      0.934      0.678       0.97      0.867      0.934      0.673\n",
            "\n",
            "      Epoch    GPU_mem   box_loss   seg_loss   cls_loss   dfl_loss  Instances       Size\n",
            "     34/100         0G     0.7762      1.164     0.7763     0.9518        368        640: 100% 1/1 [00:20<00:00, 20.94s/it]\n",
            "                 Class     Images  Instances      Box(P          R      mAP50  mAP50-95)     Mask(P          R      mAP50  mAP50-95): 100% 1/1 [00:02<00:00,  2.45s/it]\n",
            "                   all          4         60       0.97      0.867      0.934      0.678       0.97      0.867      0.934      0.673\n",
            "\n",
            "      Epoch    GPU_mem   box_loss   seg_loss   cls_loss   dfl_loss  Instances       Size\n",
            "     35/100         0G      0.747      1.161     0.7598      0.936        270        640: 100% 1/1 [00:18<00:00, 18.68s/it]\n",
            "                 Class     Images  Instances      Box(P          R      mAP50  mAP50-95)     Mask(P          R      mAP50  mAP50-95): 100% 1/1 [00:02<00:00,  2.90s/it]\n",
            "                   all          4         60      0.981      0.861      0.937      0.701      0.981      0.861      0.938      0.691\n",
            "\n",
            "      Epoch    GPU_mem   box_loss   seg_loss   cls_loss   dfl_loss  Instances       Size\n",
            "     36/100         0G     0.7471      1.098     0.7637     0.9571        298        640: 100% 1/1 [00:20<00:00, 20.07s/it]\n",
            "                 Class     Images  Instances      Box(P          R      mAP50  mAP50-95)     Mask(P          R      mAP50  mAP50-95): 100% 1/1 [00:02<00:00,  2.48s/it]\n",
            "                   all          4         60      0.981      0.861      0.937      0.701      0.981      0.861      0.938      0.691\n",
            "\n",
            "      Epoch    GPU_mem   box_loss   seg_loss   cls_loss   dfl_loss  Instances       Size\n",
            "     37/100         0G     0.7803      1.309     0.7613     0.9443        309        640: 100% 1/1 [00:20<00:00, 20.29s/it]\n",
            "                 Class     Images  Instances      Box(P          R      mAP50  mAP50-95)     Mask(P          R      mAP50  mAP50-95): 100% 1/1 [00:02<00:00,  2.57s/it]\n",
            "                   all          4         60          1      0.863      0.936      0.694          1      0.863      0.936      0.699\n",
            "\n",
            "      Epoch    GPU_mem   box_loss   seg_loss   cls_loss   dfl_loss  Instances       Size\n",
            "     38/100         0G      0.809      1.246     0.7989     0.9526        397        640: 100% 1/1 [00:22<00:00, 22.27s/it]\n",
            "                 Class     Images  Instances      Box(P          R      mAP50  mAP50-95)     Mask(P          R      mAP50  mAP50-95): 100% 1/1 [00:03<00:00,  3.46s/it]\n",
            "                   all          4         60          1      0.863      0.936      0.694          1      0.863      0.936      0.699\n",
            "\n",
            "      Epoch    GPU_mem   box_loss   seg_loss   cls_loss   dfl_loss  Instances       Size\n",
            "     39/100         0G     0.8055      1.245     0.7767     0.9479        350        640: 100% 1/1 [00:20<00:00, 20.13s/it]\n",
            "                 Class     Images  Instances      Box(P          R      mAP50  mAP50-95)     Mask(P          R      mAP50  mAP50-95): 100% 1/1 [00:02<00:00,  2.55s/it]\n",
            "                   all          4         60          1      0.862      0.936      0.691          1      0.862      0.936      0.695\n",
            "\n",
            "      Epoch    GPU_mem   box_loss   seg_loss   cls_loss   dfl_loss  Instances       Size\n",
            "     40/100         0G     0.7316      1.248     0.7139      0.951        290        640: 100% 1/1 [00:20<00:00, 20.09s/it]\n",
            "                 Class     Images  Instances      Box(P          R      mAP50  mAP50-95)     Mask(P          R      mAP50  mAP50-95): 100% 1/1 [00:02<00:00,  2.46s/it]\n",
            "                   all          4         60          1      0.862      0.936      0.691          1      0.862      0.936      0.695\n",
            "\n",
            "      Epoch    GPU_mem   box_loss   seg_loss   cls_loss   dfl_loss  Instances       Size\n",
            "     41/100         0G     0.7316      1.219       0.74     0.9455        334        640: 100% 1/1 [00:20<00:00, 20.05s/it]\n",
            "                 Class     Images  Instances      Box(P          R      mAP50  mAP50-95)     Mask(P          R      mAP50  mAP50-95): 100% 1/1 [00:03<00:00,  3.19s/it]\n",
            "                   all          4         60          1      0.881      0.936      0.685          1      0.881      0.936      0.699\n",
            "\n",
            "      Epoch    GPU_mem   box_loss   seg_loss   cls_loss   dfl_loss  Instances       Size\n",
            "     42/100         0G     0.7821      1.257      0.728     0.9704        276        640: 100% 1/1 [00:18<00:00, 18.97s/it]\n",
            "                 Class     Images  Instances      Box(P          R      mAP50  mAP50-95)     Mask(P          R      mAP50  mAP50-95): 100% 1/1 [00:02<00:00,  2.47s/it]\n",
            "                   all          4         60          1      0.881      0.936      0.685          1      0.881      0.936      0.699\n",
            "\n",
            "      Epoch    GPU_mem   box_loss   seg_loss   cls_loss   dfl_loss  Instances       Size\n",
            "     43/100         0G     0.8295      1.152     0.7489     0.9481        366        640: 100% 1/1 [00:21<00:00, 21.76s/it]\n",
            "                 Class     Images  Instances      Box(P          R      mAP50  mAP50-95)     Mask(P          R      mAP50  mAP50-95): 100% 1/1 [00:02<00:00,  2.48s/it]\n",
            "                   all          4         60      0.964      0.889      0.935      0.697      0.964      0.889      0.935      0.698\n",
            "\n",
            "      Epoch    GPU_mem   box_loss   seg_loss   cls_loss   dfl_loss  Instances       Size\n",
            "     44/100         0G     0.7475      1.154     0.7082     0.9478        322        640: 100% 1/1 [00:20<00:00, 20.27s/it]\n",
            "                 Class     Images  Instances      Box(P          R      mAP50  mAP50-95)     Mask(P          R      mAP50  mAP50-95): 100% 1/1 [00:02<00:00,  2.82s/it]\n",
            "                   all          4         60      0.964      0.889      0.935      0.697      0.964      0.889      0.935      0.698\n",
            "\n",
            "      Epoch    GPU_mem   box_loss   seg_loss   cls_loss   dfl_loss  Instances       Size\n",
            "     45/100         0G     0.7256      1.149      0.693     0.9458        304        640: 100% 1/1 [00:19<00:00, 19.69s/it]\n",
            "                 Class     Images  Instances      Box(P          R      mAP50  mAP50-95)     Mask(P          R      mAP50  mAP50-95): 100% 1/1 [00:02<00:00,  2.76s/it]\n",
            "                   all          4         60       0.93      0.867      0.931      0.693       0.93      0.867      0.931      0.681\n",
            "\n",
            "      Epoch    GPU_mem   box_loss   seg_loss   cls_loss   dfl_loss  Instances       Size\n",
            "     46/100         0G     0.7837      1.208      0.735     0.9319        378        640: 100% 1/1 [00:20<00:00, 21.00s/it]\n",
            "                 Class     Images  Instances      Box(P          R      mAP50  mAP50-95)     Mask(P          R      mAP50  mAP50-95): 100% 1/1 [00:02<00:00,  2.49s/it]\n",
            "                   all          4         60       0.93      0.867      0.931      0.693       0.93      0.867      0.931      0.681\n",
            "\n",
            "      Epoch    GPU_mem   box_loss   seg_loss   cls_loss   dfl_loss  Instances       Size\n",
            "     47/100         0G     0.8064      1.125     0.7727     0.9504        392        640: 100% 1/1 [00:21<00:00, 21.52s/it]\n",
            "                 Class     Images  Instances      Box(P          R      mAP50  mAP50-95)     Mask(P          R      mAP50  mAP50-95): 100% 1/1 [00:02<00:00,  2.47s/it]\n",
            "                   all          4         60      0.929      0.877      0.933      0.659      0.929      0.877      0.933      0.644\n",
            "\n",
            "      Epoch    GPU_mem   box_loss   seg_loss   cls_loss   dfl_loss  Instances       Size\n",
            "     48/100         0G     0.7028        1.1     0.7361     0.9232        269        640: 100% 1/1 [00:18<00:00, 18.45s/it]\n",
            "                 Class     Images  Instances      Box(P          R      mAP50  mAP50-95)     Mask(P          R      mAP50  mAP50-95): 100% 1/1 [00:03<00:00,  3.01s/it]\n",
            "                   all          4         60      0.929      0.877      0.933      0.659      0.929      0.877      0.933      0.644\n",
            "\n",
            "      Epoch    GPU_mem   box_loss   seg_loss   cls_loss   dfl_loss  Instances       Size\n",
            "     49/100         0G     0.7735       1.19     0.7402      0.941        403        640: 100% 1/1 [00:21<00:00, 21.12s/it]\n",
            "                 Class     Images  Instances      Box(P          R      mAP50  mAP50-95)     Mask(P          R      mAP50  mAP50-95): 100% 1/1 [00:02<00:00,  2.48s/it]\n",
            "                   all          4         60      0.964      0.903      0.937      0.676      0.964      0.903      0.937      0.656\n",
            "\n",
            "      Epoch    GPU_mem   box_loss   seg_loss   cls_loss   dfl_loss  Instances       Size\n",
            "     50/100         0G      0.764      1.268     0.7397     0.9231        438        640: 100% 1/1 [00:22<00:00, 22.30s/it]\n",
            "                 Class     Images  Instances      Box(P          R      mAP50  mAP50-95)     Mask(P          R      mAP50  mAP50-95): 100% 1/1 [00:02<00:00,  2.53s/it]\n",
            "                   all          4         60      0.964      0.903      0.937      0.676      0.964      0.903      0.937      0.656\n",
            "\n",
            "      Epoch    GPU_mem   box_loss   seg_loss   cls_loss   dfl_loss  Instances       Size\n",
            "     51/100         0G     0.7042       1.04     0.6689     0.9055        307        640: 100% 1/1 [00:19<00:00, 19.83s/it]\n",
            "                 Class     Images  Instances      Box(P          R      mAP50  mAP50-95)     Mask(P          R      mAP50  mAP50-95): 100% 1/1 [00:07<00:00,  7.16s/it]\n",
            "                   all          4         60      0.982      0.885      0.941      0.687      0.982      0.885      0.941      0.651\n",
            "\n",
            "      Epoch    GPU_mem   box_loss   seg_loss   cls_loss   dfl_loss  Instances       Size\n",
            "     52/100         0G     0.6933      1.011     0.6624     0.9176        302        640: 100% 1/1 [00:26<00:00, 26.83s/it]\n",
            "                 Class     Images  Instances      Box(P          R      mAP50  mAP50-95)     Mask(P          R      mAP50  mAP50-95): 100% 1/1 [00:02<00:00,  2.58s/it]\n",
            "                   all          4         60      0.982      0.885      0.941      0.687      0.982      0.885      0.941      0.651\n",
            "\n",
            "      Epoch    GPU_mem   box_loss   seg_loss   cls_loss   dfl_loss  Instances       Size\n",
            "     53/100         0G     0.7584      1.253     0.7029     0.9305        376        640: 100% 1/1 [00:22<00:00, 22.25s/it]\n",
            "                 Class     Images  Instances      Box(P          R      mAP50  mAP50-95)     Mask(P          R      mAP50  mAP50-95): 100% 1/1 [00:02<00:00,  2.58s/it]\n",
            "                   all          4         60      0.982      0.885      0.941      0.687      0.982      0.885      0.941      0.651\n",
            "\n",
            "      Epoch    GPU_mem   box_loss   seg_loss   cls_loss   dfl_loss  Instances       Size\n",
            "     54/100         0G     0.7114      1.047      0.666     0.9132        322        640: 100% 1/1 [00:19<00:00, 19.40s/it]\n",
            "                 Class     Images  Instances      Box(P          R      mAP50  mAP50-95)     Mask(P          R      mAP50  mAP50-95): 100% 1/1 [00:03<00:00,  3.34s/it]\n",
            "                   all          4         60      0.989        0.9      0.944      0.703      0.989        0.9      0.944      0.665\n",
            "\n",
            "      Epoch    GPU_mem   box_loss   seg_loss   cls_loss   dfl_loss  Instances       Size\n",
            "     55/100         0G      0.703      1.082     0.6661      0.907        277        640: 100% 1/1 [00:19<00:00, 19.63s/it]\n",
            "                 Class     Images  Instances      Box(P          R      mAP50  mAP50-95)     Mask(P          R      mAP50  mAP50-95): 100% 1/1 [00:02<00:00,  2.50s/it]\n",
            "                   all          4         60      0.989        0.9      0.944      0.703      0.989        0.9      0.944      0.665\n",
            "\n",
            "      Epoch    GPU_mem   box_loss   seg_loss   cls_loss   dfl_loss  Instances       Size\n",
            "     56/100         0G     0.7244      1.045     0.6663     0.9013        395        640: 100% 1/1 [00:22<00:00, 22.44s/it]\n",
            "                 Class     Images  Instances      Box(P          R      mAP50  mAP50-95)     Mask(P          R      mAP50  mAP50-95): 100% 1/1 [00:02<00:00,  2.55s/it]\n",
            "                   all          4         60      0.989        0.9      0.944      0.703      0.989        0.9      0.944      0.665\n",
            "\n",
            "      Epoch    GPU_mem   box_loss   seg_loss   cls_loss   dfl_loss  Instances       Size\n",
            "     57/100         0G     0.7761      1.097     0.7231     0.9293        438        640: 100% 1/1 [00:21<00:00, 21.36s/it]\n",
            "                 Class     Images  Instances      Box(P          R      mAP50  mAP50-95)     Mask(P          R      mAP50  mAP50-95): 100% 1/1 [00:02<00:00,  2.66s/it]\n",
            "                   all          4         60      0.989      0.917      0.947       0.71      0.989      0.917      0.947      0.686\n",
            "\n",
            "      Epoch    GPU_mem   box_loss   seg_loss   cls_loss   dfl_loss  Instances       Size\n",
            "     58/100         0G     0.7047     0.9477     0.6416     0.9038        339        640: 100% 1/1 [00:18<00:00, 18.07s/it]\n",
            "                 Class     Images  Instances      Box(P          R      mAP50  mAP50-95)     Mask(P          R      mAP50  mAP50-95): 100% 1/1 [00:02<00:00,  2.28s/it]\n",
            "                   all          4         60      0.989      0.917      0.947       0.71      0.989      0.917      0.947      0.686\n",
            "\n",
            "      Epoch    GPU_mem   box_loss   seg_loss   cls_loss   dfl_loss  Instances       Size\n",
            "     59/100         0G     0.7707      1.143     0.7111     0.9278        425        640: 100% 1/1 [00:21<00:00, 21.23s/it]\n",
            "                 Class     Images  Instances      Box(P          R      mAP50  mAP50-95)     Mask(P          R      mAP50  mAP50-95): 100% 1/1 [00:02<00:00,  2.35s/it]\n",
            "                   all          4         60      0.989      0.917      0.947       0.71      0.989      0.917      0.947      0.686\n",
            "\n",
            "      Epoch    GPU_mem   box_loss   seg_loss   cls_loss   dfl_loss  Instances       Size\n",
            "     60/100         0G     0.7097      1.058      0.662     0.9206        366        640: 100% 1/1 [00:20<00:00, 20.20s/it]\n",
            "                 Class     Images  Instances      Box(P          R      mAP50  mAP50-95)     Mask(P          R      mAP50  mAP50-95): 100% 1/1 [00:02<00:00,  2.85s/it]\n",
            "                   all          4         60      0.988      0.917      0.949      0.697      0.988      0.917      0.949      0.675\n",
            "\n",
            "      Epoch    GPU_mem   box_loss   seg_loss   cls_loss   dfl_loss  Instances       Size\n",
            "     61/100         0G     0.6904      1.202     0.6553     0.9023        399        640: 100% 1/1 [00:19<00:00, 19.73s/it]\n",
            "                 Class     Images  Instances      Box(P          R      mAP50  mAP50-95)     Mask(P          R      mAP50  mAP50-95): 100% 1/1 [00:02<00:00,  2.35s/it]\n",
            "                   all          4         60      0.988      0.917      0.949      0.697      0.988      0.917      0.949      0.675\n",
            "\n",
            "      Epoch    GPU_mem   box_loss   seg_loss   cls_loss   dfl_loss  Instances       Size\n",
            "     62/100         0G     0.6737      1.071     0.6612     0.8887        371        640: 100% 1/1 [00:20<00:00, 20.34s/it]\n",
            "                 Class     Images  Instances      Box(P          R      mAP50  mAP50-95)     Mask(P          R      mAP50  mAP50-95): 100% 1/1 [00:02<00:00,  2.37s/it]\n",
            "                   all          4         60      0.988      0.917      0.949      0.697      0.988      0.917      0.949      0.675\n",
            "\n",
            "      Epoch    GPU_mem   box_loss   seg_loss   cls_loss   dfl_loss  Instances       Size\n",
            "     63/100         0G     0.6866       1.07     0.6297     0.8942        348        640: 100% 1/1 [00:19<00:00, 19.81s/it]\n",
            "                 Class     Images  Instances      Box(P          R      mAP50  mAP50-95)     Mask(P          R      mAP50  mAP50-95): 100% 1/1 [00:03<00:00,  3.21s/it]\n",
            "                   all          4         60          1      0.931      0.951       0.71          1      0.931       0.95      0.693\n",
            "\n",
            "      Epoch    GPU_mem   box_loss   seg_loss   cls_loss   dfl_loss  Instances       Size\n",
            "     64/100         0G     0.6508      1.045     0.6206     0.9003        276        640: 100% 1/1 [00:18<00:00, 18.95s/it]\n",
            "                 Class     Images  Instances      Box(P          R      mAP50  mAP50-95)     Mask(P          R      mAP50  mAP50-95): 100% 1/1 [00:02<00:00,  2.53s/it]\n",
            "                   all          4         60          1      0.931      0.951       0.71          1      0.931       0.95      0.693\n",
            "\n",
            "      Epoch    GPU_mem   box_loss   seg_loss   cls_loss   dfl_loss  Instances       Size\n",
            "     65/100         0G     0.6636      1.018     0.6277     0.9015        317        640: 100% 1/1 [00:20<00:00, 20.55s/it]\n",
            "                 Class     Images  Instances      Box(P          R      mAP50  mAP50-95)     Mask(P          R      mAP50  mAP50-95): 100% 1/1 [00:02<00:00,  2.34s/it]\n",
            "                   all          4         60          1      0.931      0.951       0.71          1      0.931       0.95      0.693\n",
            "\n",
            "      Epoch    GPU_mem   box_loss   seg_loss   cls_loss   dfl_loss  Instances       Size\n",
            "     66/100         0G     0.7381      1.078     0.6664     0.9162        376        640: 100% 1/1 [00:20<00:00, 20.43s/it]\n",
            "                 Class     Images  Instances      Box(P          R      mAP50  mAP50-95)     Mask(P          R      mAP50  mAP50-95): 100% 1/1 [00:03<00:00,  3.52s/it]\n",
            "                   all          4         60      0.997      0.933      0.952       0.73      0.997      0.933       0.95      0.704\n",
            "\n",
            "      Epoch    GPU_mem   box_loss   seg_loss   cls_loss   dfl_loss  Instances       Size\n",
            "     67/100         0G     0.7383      1.005     0.6599     0.9037        351        640: 100% 1/1 [00:20<00:00, 20.02s/it]\n",
            "                 Class     Images  Instances      Box(P          R      mAP50  mAP50-95)     Mask(P          R      mAP50  mAP50-95): 100% 1/1 [00:02<00:00,  2.52s/it]\n",
            "                   all          4         60      0.997      0.933      0.952       0.73      0.997      0.933       0.95      0.704\n",
            "\n",
            "      Epoch    GPU_mem   box_loss   seg_loss   cls_loss   dfl_loss  Instances       Size\n",
            "     68/100         0G     0.7116      1.018     0.6578     0.9108        346        640: 100% 1/1 [00:21<00:00, 21.05s/it]\n",
            "                 Class     Images  Instances      Box(P          R      mAP50  mAP50-95)     Mask(P          R      mAP50  mAP50-95): 100% 1/1 [00:02<00:00,  2.34s/it]\n",
            "                   all          4         60      0.997      0.933      0.952       0.73      0.997      0.933       0.95      0.704\n",
            "\n",
            "      Epoch    GPU_mem   box_loss   seg_loss   cls_loss   dfl_loss  Instances       Size\n",
            "     69/100         0G     0.7376     0.9935     0.6809      0.909        285        640: 100% 1/1 [00:19<00:00, 19.73s/it]\n",
            "                 Class     Images  Instances      Box(P          R      mAP50  mAP50-95)     Mask(P          R      mAP50  mAP50-95): 100% 1/1 [00:03<00:00,  3.25s/it]\n",
            "                   all          4         60      0.992      0.933      0.952      0.745      0.992      0.933       0.95        0.7\n",
            "\n",
            "      Epoch    GPU_mem   box_loss   seg_loss   cls_loss   dfl_loss  Instances       Size\n",
            "     70/100         0G     0.6531     0.9994     0.6216     0.8955        303        640: 100% 1/1 [00:19<00:00, 19.10s/it]\n",
            "                 Class     Images  Instances      Box(P          R      mAP50  mAP50-95)     Mask(P          R      mAP50  mAP50-95): 100% 1/1 [00:02<00:00,  2.51s/it]\n",
            "                   all          4         60      0.992      0.933      0.952      0.745      0.992      0.933       0.95        0.7\n",
            "\n",
            "      Epoch    GPU_mem   box_loss   seg_loss   cls_loss   dfl_loss  Instances       Size\n",
            "     71/100         0G     0.7214      1.043     0.6291     0.9006        324        640: 100% 1/1 [00:20<00:00, 20.64s/it]\n",
            "                 Class     Images  Instances      Box(P          R      mAP50  mAP50-95)     Mask(P          R      mAP50  mAP50-95): 100% 1/1 [00:02<00:00,  2.49s/it]\n",
            "                   all          4         60      0.992      0.933      0.952      0.745      0.992      0.933       0.95        0.7\n",
            "\n",
            "      Epoch    GPU_mem   box_loss   seg_loss   cls_loss   dfl_loss  Instances       Size\n",
            "     72/100         0G      0.719      1.052     0.6099     0.9175        325        640: 100% 1/1 [00:19<00:00, 19.77s/it]\n",
            "                 Class     Images  Instances      Box(P          R      mAP50  mAP50-95)     Mask(P          R      mAP50  mAP50-95): 100% 1/1 [00:03<00:00,  3.26s/it]\n",
            "                   all          4         60          1      0.933      0.962      0.717          1      0.933      0.951      0.698\n",
            "\n",
            "      Epoch    GPU_mem   box_loss   seg_loss   cls_loss   dfl_loss  Instances       Size\n",
            "     73/100         0G     0.6665      1.024     0.6247      0.896        373        640: 100% 1/1 [00:19<00:00, 19.93s/it]\n",
            "                 Class     Images  Instances      Box(P          R      mAP50  mAP50-95)     Mask(P          R      mAP50  mAP50-95): 100% 1/1 [00:02<00:00,  2.52s/it]\n",
            "                   all          4         60          1      0.933      0.962      0.717          1      0.933      0.951      0.698\n",
            "\n",
            "      Epoch    GPU_mem   box_loss   seg_loss   cls_loss   dfl_loss  Instances       Size\n",
            "     74/100         0G     0.6904      1.045     0.6218     0.9051        347        640: 100% 1/1 [00:20<00:00, 20.52s/it]\n",
            "                 Class     Images  Instances      Box(P          R      mAP50  mAP50-95)     Mask(P          R      mAP50  mAP50-95): 100% 1/1 [00:02<00:00,  2.48s/it]\n",
            "                   all          4         60          1      0.933      0.962      0.717          1      0.933      0.951      0.698\n",
            "\n",
            "      Epoch    GPU_mem   box_loss   seg_loss   cls_loss   dfl_loss  Instances       Size\n",
            "     75/100         0G       0.69      1.069     0.6235     0.8915        379        640: 100% 1/1 [00:21<00:00, 21.56s/it]\n",
            "                 Class     Images  Instances      Box(P          R      mAP50  mAP50-95)     Mask(P          R      mAP50  mAP50-95): 100% 1/1 [00:02<00:00,  2.49s/it]\n",
            "                   all          4         60      0.998      0.933      0.964      0.731      0.998      0.933      0.948      0.703\n",
            "\n",
            "      Epoch    GPU_mem   box_loss   seg_loss   cls_loss   dfl_loss  Instances       Size\n",
            "     76/100         0G     0.6061      0.948     0.5948     0.8821        341        640: 100% 1/1 [00:18<00:00, 18.47s/it]\n",
            "                 Class     Images  Instances      Box(P          R      mAP50  mAP50-95)     Mask(P          R      mAP50  mAP50-95): 100% 1/1 [00:02<00:00,  2.28s/it]\n",
            "                   all          4         60      0.998      0.933      0.964      0.731      0.998      0.933      0.948      0.703\n",
            "\n",
            "      Epoch    GPU_mem   box_loss   seg_loss   cls_loss   dfl_loss  Instances       Size\n",
            "     77/100         0G     0.6149     0.9696     0.6051     0.8828        364        640: 100% 1/1 [00:21<00:00, 21.44s/it]\n",
            "                 Class     Images  Instances      Box(P          R      mAP50  mAP50-95)     Mask(P          R      mAP50  mAP50-95): 100% 1/1 [00:02<00:00,  2.35s/it]\n",
            "                   all          4         60      0.998      0.933      0.964      0.731      0.998      0.933      0.948      0.703\n",
            "\n",
            "      Epoch    GPU_mem   box_loss   seg_loss   cls_loss   dfl_loss  Instances       Size\n",
            "     78/100         0G     0.6741      1.146     0.6399     0.9046        359        640: 100% 1/1 [00:20<00:00, 20.73s/it]\n",
            "                 Class     Images  Instances      Box(P          R      mAP50  mAP50-95)     Mask(P          R      mAP50  mAP50-95): 100% 1/1 [00:02<00:00,  2.49s/it]\n",
            "                   all          4         60      0.996      0.933      0.966       0.74      0.996      0.933      0.949      0.718\n",
            "\n",
            "      Epoch    GPU_mem   box_loss   seg_loss   cls_loss   dfl_loss  Instances       Size\n",
            "     79/100         0G     0.6199     0.8827     0.5886     0.8981        273        640: 100% 1/1 [00:18<00:00, 18.42s/it]\n",
            "                 Class     Images  Instances      Box(P          R      mAP50  mAP50-95)     Mask(P          R      mAP50  mAP50-95): 100% 1/1 [00:02<00:00,  2.31s/it]\n",
            "                   all          4         60      0.996      0.933      0.966       0.74      0.996      0.933      0.949      0.718\n",
            "\n",
            "      Epoch    GPU_mem   box_loss   seg_loss   cls_loss   dfl_loss  Instances       Size\n",
            "     80/100         0G     0.6539      1.013     0.5882     0.8943        317        640: 100% 1/1 [00:20<00:00, 20.04s/it]\n",
            "                 Class     Images  Instances      Box(P          R      mAP50  mAP50-95)     Mask(P          R      mAP50  mAP50-95): 100% 1/1 [00:02<00:00,  2.35s/it]\n",
            "                   all          4         60      0.996      0.933      0.966       0.74      0.996      0.933      0.949      0.718\n",
            "\n",
            "      Epoch    GPU_mem   box_loss   seg_loss   cls_loss   dfl_loss  Instances       Size\n",
            "     81/100         0G     0.6364     0.9839     0.5776     0.9061        290        640: 100% 1/1 [00:18<00:00, 18.55s/it]\n",
            "                 Class     Images  Instances      Box(P          R      mAP50  mAP50-95)     Mask(P          R      mAP50  mAP50-95): 100% 1/1 [00:03<00:00,  3.28s/it]\n",
            "                   all          4         60      0.993      0.933      0.967      0.746      0.993      0.933      0.949       0.72\n",
            "\n",
            "      Epoch    GPU_mem   box_loss   seg_loss   cls_loss   dfl_loss  Instances       Size\n",
            "     82/100         0G     0.6487      1.007     0.5904     0.9067        348        640: 100% 1/1 [00:19<00:00, 19.65s/it]\n",
            "                 Class     Images  Instances      Box(P          R      mAP50  mAP50-95)     Mask(P          R      mAP50  mAP50-95): 100% 1/1 [00:02<00:00,  2.44s/it]\n",
            "                   all          4         60      0.993      0.933      0.967      0.746      0.993      0.933      0.949       0.72\n",
            "\n",
            "      Epoch    GPU_mem   box_loss   seg_loss   cls_loss   dfl_loss  Instances       Size\n",
            "     83/100         0G     0.6353      1.226     0.6296     0.9351        242        640: 100% 1/1 [00:18<00:00, 18.04s/it]\n",
            "                 Class     Images  Instances      Box(P          R      mAP50  mAP50-95)     Mask(P          R      mAP50  mAP50-95): 100% 1/1 [00:03<00:00,  3.20s/it]\n",
            "                   all          4         60      0.993      0.933      0.967      0.746      0.993      0.933      0.949       0.72\n",
            "\n",
            "      Epoch    GPU_mem   box_loss   seg_loss   cls_loss   dfl_loss  Instances       Size\n",
            "     84/100         0G     0.6366     0.9974     0.5946     0.8776        392        640: 100% 1/1 [00:20<00:00, 20.49s/it]\n",
            "                 Class     Images  Instances      Box(P          R      mAP50  mAP50-95)     Mask(P          R      mAP50  mAP50-95): 100% 1/1 [00:02<00:00,  2.76s/it]\n",
            "                   all          4         60      0.983      0.947      0.967      0.758      0.983      0.947      0.949      0.724\n",
            "\n",
            "      Epoch    GPU_mem   box_loss   seg_loss   cls_loss   dfl_loss  Instances       Size\n",
            "     85/100         0G     0.6263     0.9822     0.5775     0.8892        365        640: 100% 1/1 [00:19<00:00, 19.72s/it]\n",
            "                 Class     Images  Instances      Box(P          R      mAP50  mAP50-95)     Mask(P          R      mAP50  mAP50-95): 100% 1/1 [00:02<00:00,  2.49s/it]\n",
            "                   all          4         60      0.983      0.947      0.967      0.758      0.983      0.947      0.949      0.724\n",
            "\n",
            "      Epoch    GPU_mem   box_loss   seg_loss   cls_loss   dfl_loss  Instances       Size\n",
            "     86/100         0G     0.5905     0.8921      0.571     0.8686        358        640: 100% 1/1 [00:20<00:00, 20.43s/it]\n",
            "                 Class     Images  Instances      Box(P          R      mAP50  mAP50-95)     Mask(P          R      mAP50  mAP50-95): 100% 1/1 [00:02<00:00,  2.56s/it]\n",
            "                   all          4         60      0.983      0.947      0.967      0.758      0.983      0.947      0.949      0.724\n",
            "\n",
            "      Epoch    GPU_mem   box_loss   seg_loss   cls_loss   dfl_loss  Instances       Size\n",
            "     87/100         0G     0.6224     0.9361     0.5621     0.9029        305        640: 100% 1/1 [00:18<00:00, 18.35s/it]\n",
            "                 Class     Images  Instances      Box(P          R      mAP50  mAP50-95)     Mask(P          R      mAP50  mAP50-95): 100% 1/1 [00:02<00:00,  2.31s/it]\n",
            "                   all          4         60      0.983      0.947      0.967      0.758      0.983      0.947      0.949      0.724\n",
            "\n",
            "      Epoch    GPU_mem   box_loss   seg_loss   cls_loss   dfl_loss  Instances       Size\n",
            "     88/100         0G     0.5782     0.9565     0.5555     0.8848        317        640: 100% 1/1 [00:20<00:00, 20.43s/it]\n",
            "                 Class     Images  Instances      Box(P          R      mAP50  mAP50-95)     Mask(P          R      mAP50  mAP50-95): 100% 1/1 [00:02<00:00,  2.51s/it]\n",
            "                   all          4         60      0.983      0.948      0.967       0.76      0.983      0.948      0.949      0.733\n",
            "\n",
            "      Epoch    GPU_mem   box_loss   seg_loss   cls_loss   dfl_loss  Instances       Size\n",
            "     89/100         0G     0.6316      1.007     0.5899     0.8969        248        640: 100% 1/1 [00:17<00:00, 17.76s/it]\n",
            "                 Class     Images  Instances      Box(P          R      mAP50  mAP50-95)     Mask(P          R      mAP50  mAP50-95): 100% 1/1 [00:03<00:00,  3.33s/it]\n",
            "                   all          4         60      0.983      0.948      0.967       0.76      0.983      0.948      0.949      0.733\n",
            "\n",
            "      Epoch    GPU_mem   box_loss   seg_loss   cls_loss   dfl_loss  Instances       Size\n",
            "     90/100         0G     0.6542      1.075     0.6104      0.891        383        640: 100% 1/1 [00:21<00:00, 21.69s/it]\n",
            "                 Class     Images  Instances      Box(P          R      mAP50  mAP50-95)     Mask(P          R      mAP50  mAP50-95): 100% 1/1 [00:02<00:00,  2.50s/it]\n",
            "                   all          4         60      0.983      0.948      0.967       0.76      0.983      0.948      0.949      0.733\n",
            "Closing dataloader mosaic\n",
            "\u001b[34m\u001b[1malbumentations: \u001b[0mBlur(p=0.01, blur_limit=(3, 7)), MedianBlur(p=0.01, blur_limit=(3, 7)), ToGray(p=0.01, num_output_channels=3, method='weighted_average'), CLAHE(p=0.01, clip_limit=(1.0, 4.0), tile_grid_size=(8, 8))\n",
            "\n",
            "      Epoch    GPU_mem   box_loss   seg_loss   cls_loss   dfl_loss  Instances       Size\n",
            "     91/100         0G     0.5931     0.9622     0.6185     0.8887        209        640: 100% 1/1 [00:18<00:00, 18.63s/it]\n",
            "                 Class     Images  Instances      Box(P          R      mAP50  mAP50-95)     Mask(P          R      mAP50  mAP50-95): 100% 1/1 [00:02<00:00,  2.90s/it]\n",
            "                   all          4         60      0.983      0.948      0.967       0.76      0.983      0.948      0.949      0.733\n",
            "\n",
            "      Epoch    GPU_mem   box_loss   seg_loss   cls_loss   dfl_loss  Instances       Size\n",
            "     92/100         0G     0.5892      1.007     0.6133     0.8505        208        640: 100% 1/1 [00:18<00:00, 18.14s/it]\n",
            "                 Class     Images  Instances      Box(P          R      mAP50  mAP50-95)     Mask(P          R      mAP50  mAP50-95): 100% 1/1 [00:03<00:00,  3.81s/it]\n",
            "                   all          4         60      0.983      0.948      0.967       0.77      0.983      0.948      0.949      0.748\n",
            "\n",
            "      Epoch    GPU_mem   box_loss   seg_loss   cls_loss   dfl_loss  Instances       Size\n",
            "     93/100         0G     0.5978     0.9276     0.6087     0.8786        216        640: 100% 1/1 [00:17<00:00, 17.49s/it]\n",
            "                 Class     Images  Instances      Box(P          R      mAP50  mAP50-95)     Mask(P          R      mAP50  mAP50-95): 100% 1/1 [00:02<00:00,  2.94s/it]\n",
            "                   all          4         60      0.983      0.948      0.967       0.77      0.983      0.948      0.949      0.748\n",
            "\n",
            "      Epoch    GPU_mem   box_loss   seg_loss   cls_loss   dfl_loss  Instances       Size\n",
            "     94/100         0G     0.5689     0.9391     0.6575     0.8774        190        640: 100% 1/1 [00:17<00:00, 17.39s/it]\n",
            "                 Class     Images  Instances      Box(P          R      mAP50  mAP50-95)     Mask(P          R      mAP50  mAP50-95): 100% 1/1 [00:03<00:00,  3.62s/it]\n",
            "                   all          4         60      0.983      0.948      0.967       0.77      0.983      0.948      0.949      0.748\n",
            "\n",
            "      Epoch    GPU_mem   box_loss   seg_loss   cls_loss   dfl_loss  Instances       Size\n",
            "     95/100         0G     0.6002      1.029     0.5961     0.8553        211        640: 100% 1/1 [00:20<00:00, 20.04s/it]\n",
            "                 Class     Images  Instances      Box(P          R      mAP50  mAP50-95)     Mask(P          R      mAP50  mAP50-95): 100% 1/1 [00:02<00:00,  2.54s/it]\n",
            "                   all          4         60      0.983      0.948      0.967       0.77      0.983      0.948      0.949      0.748\n",
            "\n",
            "      Epoch    GPU_mem   box_loss   seg_loss   cls_loss   dfl_loss  Instances       Size\n",
            "     96/100         0G     0.5426     0.8897     0.5913      0.864        207        640: 100% 1/1 [00:18<00:00, 18.30s/it]\n",
            "                 Class     Images  Instances      Box(P          R      mAP50  mAP50-95)     Mask(P          R      mAP50  mAP50-95): 100% 1/1 [00:03<00:00,  3.30s/it]\n",
            "                   all          4         60      0.983      0.948      0.967      0.779      0.983      0.948      0.949      0.752\n",
            "\n",
            "      Epoch    GPU_mem   box_loss   seg_loss   cls_loss   dfl_loss  Instances       Size\n",
            "     97/100         0G     0.6046     0.9451     0.6537     0.9003        196        640: 100% 1/1 [00:18<00:00, 18.26s/it]\n",
            "                 Class     Images  Instances      Box(P          R      mAP50  mAP50-95)     Mask(P          R      mAP50  mAP50-95): 100% 1/1 [00:02<00:00,  2.53s/it]\n",
            "                   all          4         60      0.983      0.948      0.967      0.779      0.983      0.948      0.949      0.752\n",
            "\n",
            "      Epoch    GPU_mem   box_loss   seg_loss   cls_loss   dfl_loss  Instances       Size\n",
            "     98/100         0G     0.6549      1.073     0.6825     0.8708        208        640: 100% 1/1 [00:18<00:00, 18.18s/it]\n",
            "                 Class     Images  Instances      Box(P          R      mAP50  mAP50-95)     Mask(P          R      mAP50  mAP50-95): 100% 1/1 [00:02<00:00,  2.75s/it]\n",
            "                   all          4         60      0.983      0.948      0.967      0.779      0.983      0.948      0.949      0.752\n",
            "\n",
            "      Epoch    GPU_mem   box_loss   seg_loss   cls_loss   dfl_loss  Instances       Size\n",
            "     99/100         0G     0.5801      1.003     0.6213     0.8544        210        640: 100% 1/1 [00:17<00:00, 17.60s/it]\n",
            "                 Class     Images  Instances      Box(P          R      mAP50  mAP50-95)     Mask(P          R      mAP50  mAP50-95): 100% 1/1 [00:02<00:00,  2.40s/it]\n",
            "                   all          4         60      0.983      0.948      0.967      0.779      0.983      0.948      0.949      0.752\n",
            "\n",
            "      Epoch    GPU_mem   box_loss   seg_loss   cls_loss   dfl_loss  Instances       Size\n",
            "    100/100         0G     0.5528     0.8772     0.6309     0.8935        193        640: 100% 1/1 [00:18<00:00, 18.37s/it]\n",
            "                 Class     Images  Instances      Box(P          R      mAP50  mAP50-95)     Mask(P          R      mAP50  mAP50-95): 100% 1/1 [00:02<00:00,  2.65s/it]\n",
            "                   all          4         60      0.983      0.949      0.968      0.776      0.983      0.949      0.968       0.77\n",
            "\n",
            "100 epochs completed in 0.669 hours.\n",
            "Optimizer stripped from runs/segment/train2/weights/last.pt, 6.8MB\n",
            "Optimizer stripped from runs/segment/train2/weights/best.pt, 6.8MB\n",
            "\n",
            "Validating runs/segment/train2/weights/best.pt...\n",
            "Ultralytics 8.3.36 🚀 Python-3.10.12 torch-2.5.1+cu121 CPU (Intel Xeon 2.20GHz)\n",
            "YOLOv8n-seg summary (fused): 195 layers, 3,258,259 parameters, 0 gradients, 12.0 GFLOPs\n",
            "                 Class     Images  Instances      Box(P          R      mAP50  mAP50-95)     Mask(P          R      mAP50  mAP50-95): 100% 1/1 [00:01<00:00,  1.94s/it]\n",
            "                   all          4         60      0.983      0.949      0.968      0.776      0.983      0.949      0.968       0.77\n",
            "Speed: 3.7ms preprocess, 352.1ms inference, 0.0ms loss, 13.3ms postprocess per image\n",
            "Results saved to \u001b[1mruns/segment/train2\u001b[0m\n",
            "💡 Learn more at https://docs.ultralytics.com/modes/train\n"
          ]
        }
      ],
      "source": [
        "!yolo task=segment mode=train model=yolov8n-seg.pt data={dataset.location}/data.yaml epochs=100 imgsz=640"
      ]
    },
    {
      "cell_type": "code",
      "execution_count": null,
      "id": "ec36d839",
      "metadata": {
        "colab": {
          "base_uri": "https://localhost:8080/"
        },
        "id": "ec36d839",
        "outputId": "3ed8222d-2262-47fa-9321-2dfd0c1c16d5"
      },
      "outputs": [
        {
          "output_type": "stream",
          "name": "stdout",
          "text": [
            "Collecting cvzone\n",
            "  Downloading cvzone-1.6.1.tar.gz (25 kB)\n",
            "  Preparing metadata (setup.py) ... \u001b[?25l\u001b[?25hdone\n",
            "Requirement already satisfied: opencv-python in /usr/local/lib/python3.10/dist-packages (from cvzone) (4.10.0.84)\n",
            "Requirement already satisfied: numpy in /usr/local/lib/python3.10/dist-packages (from cvzone) (1.26.4)\n",
            "Building wheels for collected packages: cvzone\n",
            "  Building wheel for cvzone (setup.py) ... \u001b[?25l\u001b[?25hdone\n",
            "  Created wheel for cvzone: filename=cvzone-1.6.1-py3-none-any.whl size=26298 sha256=f54d4ab9801b29be122b845e87012a7d5cdcb2e054b13b1701a0fa3cba6e584f\n",
            "  Stored in directory: /root/.cache/pip/wheels/2c/9f/b3/92e945ac4a71bf727a92463f38155cc5a4fa49c5010b38ec4c\n",
            "Successfully built cvzone\n",
            "Installing collected packages: cvzone\n",
            "Successfully installed cvzone-1.6.1\n"
          ]
        }
      ],
      "source": [
        "!pip install cvzone\n"
      ]
    },
    {
      "cell_type": "code",
      "execution_count": null,
      "id": "cb2b4894",
      "metadata": {
        "id": "cb2b4894"
      },
      "outputs": [],
      "source": [
        "%run main4.py"
      ]
    },
    {
      "cell_type": "code",
      "execution_count": null,
      "id": "99ca9956",
      "metadata": {
        "id": "99ca9956"
      },
      "outputs": [],
      "source": [
        "import cv2\n",
        "from ultralytics import YOLO\n",
        "import pandas as pd\n",
        "from tracker import Tracker\n",
        "import numpy as np\n",
        "import cvzone\n",
        "\n",
        "\n",
        "\n",
        "def RGB(event, x, y, flags, param):\n",
        "    if event == cv2.EVENT_MOUSEMOVE:\n",
        "        point = [x, y]\n",
        "        print(point)\n",
        "\n",
        "cv2.namedWindow('RGB')\n",
        "cv2.setMouseCallback('RGB', RGB)\n",
        "\n",
        "\n",
        "model = YOLO(\"best.pt\")\n",
        "\n",
        "cap=cv2.VideoCapture('cow1.mp4')\n",
        "my_file = open(\"coco1.txt\", \"r\")\n",
        "data = my_file.read()\n",
        "class_list = data.split(\"\\n\")\n",
        "count=0\n",
        "tracker=Tracker()\n",
        "cowcount=[]\n",
        "cy1=487\n",
        "offset=6\n",
        "\n",
        "while True:\n",
        "    ret,frame = cap.read()\n",
        "\n",
        "    count += 1\n",
        "    if count % 3 != 0:\n",
        "        continue\n",
        "    if not ret:\n",
        "       break\n",
        "\n",
        "    frame = cv2.resize(frame, (1008, 600))\n",
        "\n",
        "    results = model(frame)\n",
        "    a = results[0].boxes.data\n",
        "    px = pd.DataFrame(a).astype(\"float\")\n",
        "    list=[]\n",
        "    for index, row in px.iterrows():\n",
        "        x1 = int(row[0])\n",
        "        y1 = int(row[1])\n",
        "        x2 = int(row[2])\n",
        "        y2 = int(row[3])\n",
        "\n",
        "        d = int(row[5])\n",
        "        c = class_list[d]\n",
        "        list.append([x1,y1,x2,y2])\n",
        "    bbox_list=tracker.update(list)\n",
        "    for bbox in bbox_list:\n",
        "        x3,y3,x4,y4,id=bbox\n",
        "        cx=int(x3+x4)//2\n",
        "        cy=int(y3+y4)//2\n",
        "        if cy1<(cy+offset) and cy1>(cy-offset):\n",
        "           cv2.rectangle(frame, (x3, y3), (x4, y4), (0, 255, 0), 2)\n",
        "           cv2.circle(frame,(cx,cy),4,(0,0,255),-1)\n",
        "           cvzone.putTextRect(frame,f'{id}',(x3,y3),1,1)\n",
        "           if cowcount.count(id)==0:\n",
        "               cowcount.append(id)\n",
        "\n",
        "\n",
        "\n",
        "\n",
        "\n",
        "    counting=len(cowcount)\n",
        "    cvzone.putTextRect(frame,f'{counting}',(50,60),2,2)\n",
        "    cv2.line(frame,(5,487),(1019,487),(255,0,255),2)\n",
        "    cv2.imshow(\"RGB\", frame)\n",
        "\n",
        "    # Break the loop if 'q' is pressed\n",
        "    if cv2.waitKey(1) & 0xFF == ord('q'):\n",
        "        break\n",
        "\n",
        "# Release video capture and close windows\n",
        "cap.release()\n",
        "cv2.destroyAllWindows()"
      ]
    },
    {
      "cell_type": "code",
      "execution_count": null,
      "id": "e0b46e0c",
      "metadata": {
        "id": "e0b46e0c"
      },
      "outputs": [],
      "source": []
    }
  ],
  "metadata": {
    "kernelspec": {
      "display_name": "Python 3 (ipykernel)",
      "language": "python",
      "name": "python3"
    },
    "language_info": {
      "codemirror_mode": {
        "name": "ipython",
        "version": 3
      },
      "file_extension": ".py",
      "mimetype": "text/x-python",
      "name": "python",
      "nbconvert_exporter": "python",
      "pygments_lexer": "ipython3",
      "version": "3.11.5"
    },
    "colab": {
      "provenance": []
    }
  },
  "nbformat": 4,
  "nbformat_minor": 5
}